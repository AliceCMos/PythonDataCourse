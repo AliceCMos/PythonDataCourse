{
 "cells": [
  {
   "cell_type": "markdown",
   "metadata": {},
   "source": [
    "# Getting used to numpy: a mini review + some extra tips/tools\n",
    "\n",
    "For the first ~20 minutes of class, we'll be covering nump - you've already been introduced to numpy arrays, so this will be a refresher.\n",
    "\n",
    "In the window below, import numpy as np"
   ]
  },
  {
   "cell_type": "code",
   "execution_count": 2,
   "metadata": {
    "slideshow": {
     "slide_type": "slide"
    }
   },
   "outputs": [],
   "source": [
    "import numpy as np"
   ]
  },
  {
   "cell_type": "markdown",
   "metadata": {},
   "source": [
    "Create a 1D numpy array \"my_numbers\" containing the numbers 1 through 10 in order. What different ways are there to do this?"
   ]
  },
  {
   "cell_type": "code",
   "execution_count": 142,
   "metadata": {
    "slideshow": {
     "slide_type": "slide"
    }
   },
   "outputs": [],
   "source": [
    "my_numbers = np."
   ]
  },
  {
   "cell_type": "markdown",
   "metadata": {},
   "source": [
    "Now, using numpy's reshape( ) method, reshape my_numbers into a 2 x 5 array"
   ]
  },
  {
   "cell_type": "code",
   "execution_count": 152,
   "metadata": {},
   "outputs": [],
   "source": [
    "#There are also multiple ways to do this!\n",
    "my_numbers = "
   ]
  },
  {
   "cell_type": "markdown",
   "metadata": {},
   "source": [
    "Using your new, reshaped my_numbers array, use array indexing to print out the second value of the second element (the number 8)"
   ]
  },
  {
   "cell_type": "code",
   "execution_count": null,
   "metadata": {},
   "outputs": [],
   "source": [
    "print()"
   ]
  },
  {
   "cell_type": "markdown",
   "metadata": {},
   "source": [
    "Using slicing techniques, print every alternating value from my_numbers's first element "
   ]
  },
  {
   "cell_type": "code",
   "execution_count": null,
   "metadata": {},
   "outputs": [],
   "source": [
    "print()"
   ]
  },
  {
   "cell_type": "markdown",
   "metadata": {},
   "source": [
    "Another convenient way of pulling values from a numpy array is numpy's where() function. If we wanted to pull __the indices__ of all values in my_numbers greater than 6, we could say: <code> np.where(my_numbers > 6) </code>"
   ]
  },
  {
   "cell_type": "code",
   "execution_count": 145,
   "metadata": {},
   "outputs": [
    {
     "data": {
      "text/plain": [
       "(array([1, 1, 1, 1]), array([1, 2, 3, 4]))"
      ]
     },
     "execution_count": 145,
     "metadata": {},
     "output_type": "execute_result"
    }
   ],
   "source": [
    "#go ahead and run this cell to see what the output looks like\n",
    "np.where(my_numbers > 6)"
   ]
  },
  {
   "cell_type": "markdown",
   "metadata": {},
   "source": [
    "This output is actually two arrays containing an __index__ of matching rows and columns! e.g. <code>my_numbers[1,1]</code> = 7, <code>my_numbers[1,2]</code> = 8, and so on.\n",
    "<br> <br>\n",
    "How would we create a new array called new_array that contains the actual values? Give it a try now\n",
    "<br><br>\n"
   ]
  },
  {
   "cell_type": "code",
   "execution_count": 153,
   "metadata": {},
   "outputs": [],
   "source": [
    "new_array = #fill in answer here\n",
    "print(new_array)"
   ]
  },
  {
   "cell_type": "markdown",
   "metadata": {},
   "source": [
    "It's important to note that the __where__ function has a lot more capability than just returning an index- it actually  can manipulate elements using the same logic as <code> [xv if c else yv\n",
    " for c, xv, yv in zip(condition, x, y)] </code> when passed <code> np.where(condition, [x,y])</code>\n",
    "\n",
    "See example below:"
   ]
  },
  {
   "cell_type": "code",
   "execution_count": 167,
   "metadata": {},
   "outputs": [
    {
     "name": "stdout",
     "output_type": "stream",
     "text": [
      "Before using np.where():  \n",
      " [ 1  2  3  4  5  6  7  8  9 10 11 12 13 14 15 16 17 18 19]\n",
      "After using np.where(), all indices where example_arr < 10 = False are subject to example_arr-10:  \n",
      " [1 2 3 4 5 6 7 8 9 0 1 2 3 4 5 6 7 8 9]\n"
     ]
    }
   ],
   "source": [
    "#go ahead and run this cell to see output\n",
    "example_arr = np.arange(1,20,1)\n",
    "\n",
    "print('Before using np.where(): ','\\n',example_arr)\n",
    "\n",
    "example_arr = np.where(example_arr < 10, example_arr, example_arr-10)\n",
    "\n",
    "print('After using np.where(), all indices where example_arr < 10 = False are subject to example_arr-10: ',\n",
    "      '\\n',example_arr)"
   ]
  },
  {
   "cell_type": "markdown",
   "metadata": {},
   "source": [
    "Finally, while it was touched on last lecture, we'd like to make the point that one can also easily index arrays by creating boolean/mask arrays using conditional statements. In this case, the functionality would look like: <br> <br>\n",
    "<code> new_array = old_array[old_array <font color = red>CONDITIONAL STATEMENT</font>]</code>\n",
    "\n",
    "In the code below, we've creating an array __a__ that's equal the the numbers between 1 and 20. Use a conditional statement to create a mask array with index values, and reassign a to only equaling its values that are greater than or equal to 12."
   ]
  },
  {
   "cell_type": "code",
   "execution_count": 178,
   "metadata": {},
   "outputs": [],
   "source": [
    "a = np.arange(1,21,1)\n",
    "a = #fill in answer here\n",
    "print(a)\n"
   ]
  },
  {
   "cell_type": "markdown",
   "metadata": {},
   "source": [
    "# Random number generation in numpy\n",
    "\n",
    "Numpy comes with a \"random\" module (np.random) that contains a number of functions for producing random numbers. Some examples include:\n",
    "<br> <br>\n",
    "<code>np.random.random(tuple indicating output dimensions, e.g. (2,3) )</code> -> outputs random values from continuous distribuion over 0 to 1 in n-dimensions (specified by input tuple)\n",
    "<br><br>\n",
    "<code>np.random.randn(dimension1, dimension2, dimension 3...)</code> ->  random values from 0 to 1 over normal distribution\n",
    "<br><br>\n",
    "<code>np.random.randint(size, (lower bound, higher bound))</code> -> array of size x over specified lower/higher bounds\n",
    "<br> <br><br>\n",
    "Check out further numpy rng features here:\n",
    "\n",
    "https://docs.scipy.org/doc/numpy-1.15.1/reference/routines.random.html\n",
    "\n",
    "\n",
    "\n",
    "\n"
   ]
  },
  {
   "cell_type": "markdown",
   "metadata": {},
   "source": [
    "Using <code>np.random.random</code>, create two arrays of random numbers from a continuous distribution: array a (100x5), and array b (5x10)"
   ]
  },
  {
   "cell_type": "code",
   "execution_count": 180,
   "metadata": {},
   "outputs": [],
   "source": [
    "#hint: don't forget that np.random.random takes in a tuple!\n",
    "a = \n",
    "b = "
   ]
  },
  {
   "cell_type": "markdown",
   "metadata": {},
   "source": [
    "Next, using the __shape__ attribute of numpy arrays, print the shape of a and the shape of b. \n",
    "<br><br>\n"
   ]
  },
  {
   "cell_type": "code",
   "execution_count": 181,
   "metadata": {},
   "outputs": [],
   "source": [
    "#hint: attributes, unlike methods, don't require the use of parentheses!\n",
    "print()\n",
    "print()"
   ]
  },
  {
   "cell_type": "markdown",
   "metadata": {},
   "source": [
    "# numpy arrays: operators and a few more useful attributes\n",
    "\n",
    "\n",
    "Rather than having a \"len\" like lists, numpy arrays have two attributes than can help users keep track of dimensions/elements: <code>size</code> and <code>shape</code>. <code> size </code> refers to the __number of elements__ within an array, while <code> shape </code> returns an array's dimensions.\n",
    "<br> <br>\n",
    "Below, print the size and shape of a and b. What do you get?"
   ]
  },
  {
   "cell_type": "code",
   "execution_count": 193,
   "metadata": {},
   "outputs": [
    {
     "name": "stdout",
     "output_type": "stream",
     "text": [
      "\n",
      "\n",
      "\n",
      "\n"
     ]
    }
   ],
   "source": [
    "print() #a size\n",
    "print() #a shape\n",
    "print() #b size\n",
    "print() #b shape"
   ]
  },
  {
   "cell_type": "markdown",
   "metadata": {},
   "source": [
    "In the last lecture, Jacob covered some operators (+, -, etc.) that can be used on numpy arrays. We just wanted to make the point that matrix multiplication can be quickly accomplished using the <code> @ </code>. Below, create a matrix c that is the product of a and b and print the shapes of a, b, and c to demonstrate matrix multiplication."
   ]
  },
  {
   "cell_type": "code",
   "execution_count": 195,
   "metadata": {},
   "outputs": [
    {
     "name": "stdout",
     "output_type": "stream",
     "text": [
      "\n",
      "\n",
      "\n"
     ]
    }
   ],
   "source": [
    "print() #a shape\n",
    "print() #b shape\n",
    "c = \n",
    "print()#c shape"
   ]
  },
  {
   "cell_type": "markdown",
   "metadata": {},
   "source": [
    "Arrays also have lots of useful methods associated with them that perform various functions, including:\n",
    "<br><br>\n",
    "<code> np.min()</code> <- returns minimum value of array<br> <br>\n",
    "<code> np.max()</code> <-returns max value of array<br> <br>\n",
    "<code> np.mean()</code> <-returns mean value of array<br> <br>\n",
    "<code> np.astype()</code> <- casts all data types contained in array to specified data type, eg. <code> =astype(int)</code>\n",
    "\n",
    "For a complete list of attributes and methods associated with numpy arrays, check out this documentation:\n",
    " <br> <br>\n",
    "    https://docs.scipy.org/doc/numpy/reference/arrays.ndarray.html#array-methods\n",
    "   <br> <br>\n",
    "Using this information, find the minimum value of a.\n",
    "    "
   ]
  },
  {
   "cell_type": "code",
   "execution_count": 206,
   "metadata": {},
   "outputs": [],
   "source": [
    "print()"
   ]
  },
  {
   "cell_type": "markdown",
   "metadata": {},
   "source": [
    "## A note on axes in numpy arrays:\n",
    "\n",
    "We've just told you about some of the neat methods you can use with numpy arrays; however, we haven't covered situations in which you might want to find the max or min of a __single column__ or __row__ of an array (we refer to these as __axes__).\n",
    "\n",
    "In this case, you'll want to specify *within* the method the axis that you would like to operate on. Let's take our 100x5 array \"a\" as an example. Let's say that we actually want to take the mean across the __first value__ of each \"column\", and return a vector of length 5 containing each of those values. In this case, we would need to specify axis = 0 *as input to the function*, like so:\n",
    "<br><br>\n",
    "<code> np.mean(<font color=red>ARRAY</font>,axis=0)</code>\n",
    "<br><br> Conversely, specifying \"axis = 1\" would return a vector of length 100 with the mean value of each \"row\".\n",
    "Below, create an array \"a_mean\" that's equal to the mean of array \"a\" across axis 0."
   ]
  },
  {
   "cell_type": "code",
   "execution_count": 203,
   "metadata": {},
   "outputs": [],
   "source": [
    "a_mean = \n",
    "print(a_mean)\n"
   ]
  },
  {
   "cell_type": "markdown",
   "metadata": {},
   "source": [
    "# Huzzah! You've made it through part 1 of the lecture! We're going to go through some slides for a bit, and then you'll be prompted to import __pandas__. Go ahead and pick up here whenever that happens :)\n",
    "<br><br><br><br><br>"
   ]
  },
  {
   "cell_type": "markdown",
   "metadata": {},
   "source": [
    "In the cell below, import <code> pandas </code> as <code> pd</cd>"
   ]
  },
  {
   "cell_type": "code",
   "execution_count": 210,
   "metadata": {},
   "outputs": [],
   "source": [
    "import pandas as pd"
   ]
  },
  {
   "cell_type": "markdown",
   "metadata": {},
   "source": [
    "Below, find the list \"names_list\", consisting of five random names."
   ]
  },
  {
   "cell_type": "code",
   "execution_count": 208,
   "metadata": {},
   "outputs": [],
   "source": [
    "names_list = ['Aragorn', 'Legolas', 'Gimli', 'Galadriel', 'Eowyn']"
   ]
  },
  {
   "cell_type": "markdown",
   "metadata": {},
   "source": [
    "Use panda's Series() method, with names_list as input, to create a series assigned to variable \"names_series\" Print output."
   ]
  },
  {
   "cell_type": "code",
   "execution_count": null,
   "metadata": {},
   "outputs": [],
   "source": [
    "names_series =\n",
    "print()"
   ]
  },
  {
   "cell_type": "markdown",
   "metadata": {},
   "source": [
    "Looking at our printed series, it's pretty clear that this no longer looks like a list. There are values all along the left side!! This is the series __index__. Because we didn't specify anything in particular, pandas automatically created an index for us beginning with 0 and continuing through the length of the list we passed it; however, we have control over the index! We can specify values *within* the input we provide the Series() function, like this:\n",
    "<br><br>\n",
    "<code> names_series = pd.Series(names_list, index = [5,6,7,8,9])</code>\n",
    "<br><br> __OR__ If we create a series from a __dictionary__, the index will automatically contain key values from the dict."
   ]
  },
  {
   "cell_type": "markdown",
   "metadata": {},
   "source": [
    "<br><br><br>\n",
    "So how do we make a DataFrame? There are actually myriad ways!! This is __one of many__ - and not the most efficient!\n",
    "<br> Create a dictionary lotr_data, with the key 'Beings'assigned a list containing the strings 'human','elf','dwarf','elf', and 'human', and the key 'Age', assigned a list containing the values 87, 2931, 139, 7000, and 24"
   ]
  },
  {
   "cell_type": "code",
   "execution_count": 227,
   "metadata": {},
   "outputs": [],
   "source": [
    "lotr_data = \n"
   ]
  },
  {
   "cell_type": "markdown",
   "metadata": {},
   "source": [
    "Now, create a dataframe lotr_df by passing lotr_data into the pandas function DataFrame()"
   ]
  },
  {
   "cell_type": "code",
   "execution_count": 233,
   "metadata": {
    "scrolled": true
   },
   "outputs": [],
   "source": [
    "lotr_df = #create DataFrame here\n",
    "print(lotr_df)\n"
   ]
  },
  {
   "cell_type": "markdown",
   "metadata": {},
   "source": [
    "We've been using Python's built-in print function throughout this class to look at data - but DataFrames are unique in that they are actually nicer to look at as output! Try using the .head() method associated with DataFrames - head() will normally return the first five rows of a DataFrame, but can take any number as input. In this case, just show the first 3 rows:"
   ]
  },
  {
   "cell_type": "code",
   "execution_count": null,
   "metadata": {},
   "outputs": [],
   "source": []
  },
  {
   "cell_type": "markdown",
   "metadata": {},
   "source": [
    "Let's say we want to view just the 'Beings' column of our DataFrame - this can be accomplished via the simple command <code> DataFrame[<font color=red>'COLUMN NAME'<font>]</code>. Try looking at just Beings below."
   ]
  },
  {
   "cell_type": "code",
   "execution_count": null,
   "metadata": {},
   "outputs": [],
   "source": []
  },
  {
   "cell_type": "markdown",
   "metadata": {},
   "source": [
    "Interestingly, the columns of a DataFrame are actually also __attributes__, meaning they can be accessed using <code> DataFrame.<font color = red>COLUMNS</font></code> notation. Try pulling out the Age column this way below."
   ]
  },
  {
   "cell_type": "code",
   "execution_count": null,
   "metadata": {},
   "outputs": [],
   "source": []
  },
  {
   "cell_type": "markdown",
   "metadata": {},
   "source": [
    "Egads! It looks like we've forgotten to insert our character names from earlier into our DataFrame! Thankfully, using the same indexing that we see above, this is quite easy to accomplish in a DataFrame - simply create a *new* column with the command <code>DataFrame['NEW COLUMN NAME'] = ________ </code> Below, insert your names_series Series into lotr_df in a column called 'Character Name', and take a look at your updated DataFrame"
   ]
  },
  {
   "cell_type": "code",
   "execution_count": null,
   "metadata": {},
   "outputs": [],
   "source": []
  },
  {
   "cell_type": "markdown",
   "metadata": {},
   "source": [
    " This is all well and good, but let's say we get our hands on a *slightly* more complete dataset, and want to import it. pandas has built in functions to read/import __many__ different data types, including (but not limited to) numpy arrays, .xlsx, and .csv files. \n",
    " <br><br> Use the pandas read_csv function, which will take a csv file at a given directory and import it into a DataFrame, to import the lotr_char_age.csv file that you should have put into the same folder as this notebook at the beginning of class. Re-assign your lotr_df DataFrame to the output of this function."
   ]
  },
  {
   "cell_type": "code",
   "execution_count": null,
   "metadata": {},
   "outputs": [],
   "source": [
    "lotr_df ="
   ]
  },
  {
   "cell_type": "markdown",
   "metadata": {},
   "source": [
    "What a lovely DataFrame we've created! It doesn't have a *lot* more information, but it should be enough for us to quickly go over how to pull the data your want out of your DataFrame."
   ]
  },
  {
   "cell_type": "code",
   "execution_count": null,
   "metadata": {},
   "outputs": [],
   "source": []
  },
  {
   "cell_type": "code",
   "execution_count": null,
   "metadata": {},
   "outputs": [],
   "source": []
  },
  {
   "cell_type": "code",
   "execution_count": null,
   "metadata": {},
   "outputs": [],
   "source": []
  },
  {
   "cell_type": "code",
   "execution_count": null,
   "metadata": {},
   "outputs": [],
   "source": []
  },
  {
   "cell_type": "code",
   "execution_count": null,
   "metadata": {},
   "outputs": [],
   "source": []
  },
  {
   "cell_type": "code",
   "execution_count": null,
   "metadata": {},
   "outputs": [],
   "source": []
  },
  {
   "cell_type": "code",
   "execution_count": null,
   "metadata": {},
   "outputs": [],
   "source": []
  },
  {
   "cell_type": "code",
   "execution_count": null,
   "metadata": {},
   "outputs": [],
   "source": []
  },
  {
   "cell_type": "code",
   "execution_count": null,
   "metadata": {},
   "outputs": [],
   "source": []
  },
  {
   "cell_type": "code",
   "execution_count": null,
   "metadata": {},
   "outputs": [],
   "source": []
  },
  {
   "cell_type": "code",
   "execution_count": 52,
   "metadata": {},
   "outputs": [
    {
     "name": "stdout",
     "output_type": "stream",
     "text": [
      "[ 0.67866349  0.6974807  -1.74709009  1.29672406  0.49882626  0.98887658\n",
      " -0.17751463 -1.07238797 -0.05591887 -1.39110012  1.59796597  0.08068582\n",
      " -0.69362336  1.22925948  0.24712293 -0.77193723 -0.93869541 -0.07732541\n",
      " -0.69299071  0.42640159 -0.59010907  1.21257174  1.33632952  1.16498618\n",
      " -0.30774921 -0.27269119 -0.70685846  0.60363261 -0.24760296 -2.69380227\n",
      " -0.41017918 -0.1455258   0.46809844 -0.04013323  0.67853182 -0.75973737\n",
      "  1.47592263 -1.10757199  0.02292001 -0.22632626 -0.06664435 -2.45995426\n",
      "  0.64675548  1.48106383  0.68417371 -0.17641314 -1.07998282  0.9024132\n",
      "  0.57159997 -1.40917168 -0.39993998  1.30176932 -0.36464923  1.23236001\n",
      "  1.82680444  0.17498237  0.18623439 -0.09403949 -0.54808126 -0.28497478\n",
      " -0.77414718 -1.60821906 -0.42483949 -0.30910183 -1.18246645 -0.35091168\n",
      " -0.05194792  0.56553589  0.63056925 -0.74563268  0.9533396  -0.37825757\n",
      "  0.48221533 -0.41765164  1.99181698 -1.74316776  0.93050269 -1.55250337\n",
      " -0.25139287 -0.44956909  0.26097001  1.55814034  2.33553281 -0.62818882\n",
      "  0.17458795 -0.2982712  -2.35459899 -0.1239068  -0.58526733  1.27631459\n",
      "  1.24375259  1.26462519 -0.44123814 -0.67610301 -0.71715838  1.2868954\n",
      " -2.38653158  1.10358804 -1.77573824 -1.70470513]\n"
     ]
    }
   ],
   "source": [
    "my_random_array = np.random.randn(100)\n",
    "print(my_random_array)"
   ]
  },
  {
   "cell_type": "code",
   "execution_count": null,
   "metadata": {},
   "outputs": [],
   "source": []
  },
  {
   "cell_type": "code",
   "execution_count": null,
   "metadata": {},
   "outputs": [],
   "source": []
  },
  {
   "cell_type": "code",
   "execution_count": null,
   "metadata": {},
   "outputs": [],
   "source": []
  },
  {
   "cell_type": "code",
   "execution_count": null,
   "metadata": {},
   "outputs": [],
   "source": []
  },
  {
   "cell_type": "code",
   "execution_count": null,
   "metadata": {},
   "outputs": [],
   "source": []
  },
  {
   "cell_type": "code",
   "execution_count": null,
   "metadata": {},
   "outputs": [],
   "source": []
  },
  {
   "cell_type": "code",
   "execution_count": null,
   "metadata": {},
   "outputs": [],
   "source": []
  },
  {
   "cell_type": "code",
   "execution_count": null,
   "metadata": {},
   "outputs": [],
   "source": []
  },
  {
   "cell_type": "code",
   "execution_count": null,
   "metadata": {},
   "outputs": [],
   "source": []
  },
  {
   "cell_type": "code",
   "execution_count": null,
   "metadata": {},
   "outputs": [],
   "source": []
  },
  {
   "cell_type": "code",
   "execution_count": null,
   "metadata": {},
   "outputs": [],
   "source": []
  },
  {
   "cell_type": "code",
   "execution_count": 36,
   "metadata": {
    "scrolled": true
   },
   "outputs": [
    {
     "name": "stdout",
     "output_type": "stream",
     "text": [
      "[[ 1  2  3  4  5]\n",
      " [ 6  7  8  9 10]]\n"
     ]
    }
   ],
   "source": [
    "my_numbers = my_numbers.reshape(2,5)\n",
    "print(my_numbers)"
   ]
  },
  {
   "cell_type": "code",
   "execution_count": 37,
   "metadata": {},
   "outputs": [
    {
     "name": "stdout",
     "output_type": "stream",
     "text": [
      "[[ 1  2  3  4  5]\n",
      " [ 6  7  8  9 10]]\n"
     ]
    }
   ],
   "source": [
    "my_numbers = np.reshape(my_numbers,(2,5))\n",
    "print(my_numbers)"
   ]
  },
  {
   "cell_type": "code",
   "execution_count": 49,
   "metadata": {},
   "outputs": [
    {
     "name": "stdout",
     "output_type": "stream",
     "text": [
      "[1 3 5]\n"
     ]
    }
   ],
   "source": [
    "print(my_numbers[0,::2])"
   ]
  },
  {
   "cell_type": "code",
   "execution_count": 191,
   "metadata": {},
   "outputs": [],
   "source": [
    "a = np.random.random((100, 5))\n",
    "b = np.random.random((2, 3, 5, 10))"
   ]
  },
  {
   "cell_type": "code",
   "execution_count": null,
   "metadata": {},
   "outputs": [],
   "source": []
  },
  {
   "cell_type": "code",
   "execution_count": 77,
   "metadata": {},
   "outputs": [
    {
     "data": {
      "text/plain": [
       "array([0.72255993, 0.58319049, 0.536816  , 0.62196764, 0.54430902,\n",
       "       0.87900356, 0.84051336, 0.93000772, 0.72645941, 0.71042466,\n",
       "       0.60517229, 0.64924397, 0.8691445 , 0.61851871, 0.50893645,\n",
       "       0.71247617, 0.59485699, 0.73464286, 0.85506674, 0.83222676,\n",
       "       0.92908299, 0.87464149, 0.90559444, 0.52557928, 0.84203377,\n",
       "       0.50352238, 0.94107043, 0.84602192, 0.64044767, 0.7772278 ,\n",
       "       0.80422655, 0.51143342, 0.96493792, 0.52775755, 0.57384932,\n",
       "       0.665076  , 0.69274729, 0.86428971, 0.50899522, 0.54244077,\n",
       "       0.84500358, 0.62886723, 0.91703817, 0.65069582, 0.74789592,\n",
       "       0.51517821, 0.94663423, 0.869826  , 0.54633506, 0.84749555,\n",
       "       0.96879359, 0.83275489, 0.70760488, 0.90943558, 0.7304495 ,\n",
       "       0.77579979, 0.92386409, 0.97986295, 0.57365481, 0.95220589,\n",
       "       0.7087915 , 0.87114297, 0.66034492, 0.92712909, 0.9328133 ,\n",
       "       0.94142945, 0.6878104 , 0.63670917, 0.90134055, 0.74415877,\n",
       "       0.90835335, 0.5679191 , 0.90698119, 0.73938741, 0.71850954,\n",
       "       0.85410223, 0.88788027, 0.5926979 , 0.96512492, 0.79617372,\n",
       "       0.76787617, 0.82831295, 0.56499723, 0.97214597, 0.58625275,\n",
       "       0.83816423, 0.52931608, 0.98921129, 0.89361579, 0.94973493,\n",
       "       0.50380067, 0.8245847 , 0.64284935, 0.55995633, 0.73772588,\n",
       "       0.75239251, 0.58027497, 0.70697746, 0.62756561, 0.84491165,\n",
       "       0.73056931, 0.52621161, 0.64877891, 0.61537913, 0.50147557,\n",
       "       0.7805984 , 0.83635172, 0.60723769, 0.55965019, 0.96145312,\n",
       "       0.61722391, 0.97864041, 0.51717028, 0.51106836, 0.78907085,\n",
       "       0.61409023, 0.9253329 , 0.83945131, 0.58701793, 0.89101233,\n",
       "       0.80214866, 0.68631367, 0.77464489, 0.56025064, 0.89934968,\n",
       "       0.93262649, 0.7262999 , 0.92814585, 0.72130841, 0.74553538,\n",
       "       0.62565391, 0.6235654 , 0.87504377, 0.94616363, 0.72233288,\n",
       "       0.70759459, 0.86035706, 0.98360137, 0.80472815, 0.57637754,\n",
       "       0.7442925 , 0.78290275, 0.56795873, 0.75752034, 0.65016658,\n",
       "       0.87151071, 0.91774662, 0.6188014 , 0.93543048, 0.91514438,\n",
       "       0.92912426, 0.52072985, 0.91949748, 0.69343906, 0.76737279,\n",
       "       0.84309471, 0.63379455, 0.55520203, 0.94640049, 0.83918627,\n",
       "       0.9840791 , 0.65538061, 0.81739964, 0.54132668, 0.74497077,\n",
       "       0.53301654, 0.83585578, 0.99730682, 0.90364206, 0.51212208,\n",
       "       0.73362184, 0.8879775 , 0.66937167, 0.59481986, 0.85528756,\n",
       "       0.85851583, 0.54270073, 0.63209929, 0.86658397, 0.88896806,\n",
       "       0.83316679, 0.63576957, 0.78601483, 0.78292657, 0.88714503,\n",
       "       0.88221179, 0.71138844, 0.55719388, 0.77382467, 0.50824112,\n",
       "       0.87233396, 0.95332085, 0.90923085, 0.56913153, 0.77312068,\n",
       "       0.82667347, 0.95617348, 0.94349437, 0.60041702, 0.88082919,\n",
       "       0.51107124, 0.62754784, 0.74293188, 0.91698195, 0.94568701,\n",
       "       0.72270173, 0.63538437, 0.72439749, 0.54049489, 0.57716315,\n",
       "       0.56026202, 0.98077105, 0.61555863, 0.66347275, 0.68656322,\n",
       "       0.62087566, 0.83506635, 0.91657538, 0.58484521, 0.61534709,\n",
       "       0.65751321, 0.55172656, 0.64005378, 0.64244325, 0.64274829,\n",
       "       0.94731623, 0.78054146, 0.9380388 , 0.7109232 , 0.96094203,\n",
       "       0.57006554, 0.71973755, 0.85422896, 0.91797627, 0.78770458,\n",
       "       0.589272  , 0.72444603, 0.68427546, 0.61863937, 0.94291616,\n",
       "       0.6094381 , 0.9797575 , 0.55302735, 0.81322193, 0.8303707 ,\n",
       "       0.83012408, 0.68640409, 0.99735073, 0.56697231, 0.95594139,\n",
       "       0.71490763, 0.632708  , 0.91657698, 0.76854779, 0.99090739,\n",
       "       0.87617209, 0.85165918, 0.87688022, 0.63768159, 0.92909474])"
      ]
     },
     "execution_count": 77,
     "metadata": {},
     "output_type": "execute_result"
    }
   ],
   "source": [
    "#FOR EXPLAINING INDEXING - ALSO AN OPTION\n",
    "a[np.where(a > 0.5)]\n",
    "#INDEXING BY ARRAYS OF INTEGERS FOR EACH AXIS"
   ]
  },
  {
   "cell_type": "code",
   "execution_count": 67,
   "metadata": {},
   "outputs": [
    {
     "data": {
      "text/plain": [
       "array([[9.58708520e-02, 1.71298326e-01, 5.08323063e-02, 3.93229843e-03,\n",
       "        1.16692581e-01],\n",
       "       [1.94583407e-01, 3.47674096e-01, 1.03171330e-01, 7.98115390e-03,\n",
       "        2.36844040e-01],\n",
       "       [4.54270338e-01, 8.11672648e-01, 2.40861623e-01, 1.86326344e-02,\n",
       "        5.52931126e-01],\n",
       "       [2.32604698e-01, 4.15609066e-01, 1.23330846e-01, 9.54065880e-03,\n",
       "        2.83122992e-01],\n",
       "       [5.05781909e-01, 9.03711528e-01, 2.68173907e-01, 2.07454650e-02,\n",
       "        6.15630247e-01],\n",
       "       [1.78159567e-02, 3.18328615e-02, 9.44631398e-03, 7.30750349e-04,\n",
       "        2.16853186e-02],\n",
       "       [7.67211207e-03, 1.37082327e-02, 4.06788031e-03, 3.14684115e-04,\n",
       "        9.33838115e-03],\n",
       "       [2.93879632e-01, 5.25092745e-01, 1.55819826e-01, 1.20539496e-02,\n",
       "        3.57705934e-01],\n",
       "       [1.17994069e-01, 2.10827233e-01, 6.25624008e-02, 4.83971805e-03,\n",
       "        1.43620633e-01],\n",
       "       [4.17768956e-01, 7.46453392e-01, 2.21507988e-01, 1.71354710e-02,\n",
       "        5.08502184e-01]])"
      ]
     },
     "execution_count": 67,
     "metadata": {},
     "output_type": "execute_result"
    }
   ],
   "source": [
    "a[None, :] * b[:, None]"
   ]
  },
  {
   "cell_type": "code",
   "execution_count": 68,
   "metadata": {},
   "outputs": [
    {
     "data": {
      "text/plain": [
       "array([[9.58708520e-02, 1.71298326e-01, 5.08323063e-02, 3.93229843e-03,\n",
       "        1.16692581e-01],\n",
       "       [1.94583407e-01, 3.47674096e-01, 1.03171330e-01, 7.98115390e-03,\n",
       "        2.36844040e-01],\n",
       "       [4.54270338e-01, 8.11672648e-01, 2.40861623e-01, 1.86326344e-02,\n",
       "        5.52931126e-01],\n",
       "       [2.32604698e-01, 4.15609066e-01, 1.23330846e-01, 9.54065880e-03,\n",
       "        2.83122992e-01],\n",
       "       [5.05781909e-01, 9.03711528e-01, 2.68173907e-01, 2.07454650e-02,\n",
       "        6.15630247e-01],\n",
       "       [1.78159567e-02, 3.18328615e-02, 9.44631398e-03, 7.30750349e-04,\n",
       "        2.16853186e-02],\n",
       "       [7.67211207e-03, 1.37082327e-02, 4.06788031e-03, 3.14684115e-04,\n",
       "        9.33838115e-03],\n",
       "       [2.93879632e-01, 5.25092745e-01, 1.55819826e-01, 1.20539496e-02,\n",
       "        3.57705934e-01],\n",
       "       [1.17994069e-01, 2.10827233e-01, 6.25624008e-02, 4.83971805e-03,\n",
       "        1.43620633e-01],\n",
       "       [4.17768956e-01, 7.46453392e-01, 2.21507988e-01, 1.71354710e-02,\n",
       "        5.08502184e-01]])"
      ]
     },
     "execution_count": 68,
     "metadata": {},
     "output_type": "execute_result"
    }
   ],
   "source": [
    "np.outer(b, a)"
   ]
  },
  {
   "cell_type": "code",
   "execution_count": 71,
   "metadata": {},
   "outputs": [
    {
     "data": {
      "text/plain": [
       "True"
      ]
     },
     "execution_count": 71,
     "metadata": {},
     "output_type": "execute_result"
    }
   ],
   "source": [
    "np.all(np.arange(10) == np.arange(10))"
   ]
  },
  {
   "cell_type": "code",
   "execution_count": null,
   "metadata": {},
   "outputs": [],
   "source": [
    "np.isclose?, np.allclose"
   ]
  },
  {
   "cell_type": "code",
   "execution_count": null,
   "metadata": {},
   "outputs": [],
   "source": [
    "scipy"
   ]
  }
 ],
 "metadata": {
  "kernelspec": {
   "display_name": "Python 3",
   "language": "python",
   "name": "python3"
  },
  "language_info": {
   "codemirror_mode": {
    "name": "ipython",
    "version": 3
   },
   "file_extension": ".py",
   "mimetype": "text/x-python",
   "name": "python",
   "nbconvert_exporter": "python",
   "pygments_lexer": "ipython3",
   "version": "3.7.7"
  }
 },
 "nbformat": 4,
 "nbformat_minor": 4
}
