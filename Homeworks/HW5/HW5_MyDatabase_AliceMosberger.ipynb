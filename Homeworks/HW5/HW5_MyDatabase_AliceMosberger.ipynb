{
 "cells": [
  {
   "cell_type": "code",
   "execution_count": 1,
   "metadata": {},
   "outputs": [
    {
     "name": "stdout",
     "output_type": "stream",
     "text": [
      "Connecting root@127.0.0.1:3306\n"
     ]
    }
   ],
   "source": [
    "import datajoint as dj\n",
    "import behavior_database as db"
   ]
  },
  {
   "cell_type": "code",
   "execution_count": 2,
   "metadata": {},
   "outputs": [
    {
     "data": {
      "image/svg+xml": [
       "<svg height=\"114pt\" viewBox=\"0.00 0.00 236.00 114.00\" width=\"236pt\" xmlns=\"http://www.w3.org/2000/svg\" xmlns:xlink=\"http://www.w3.org/1999/xlink\">\n",
       "<g class=\"graph\" id=\"graph0\" transform=\"scale(1 1) rotate(0) translate(4 110)\">\n",
       "<title>%3</title>\n",
       "<polygon fill=\"white\" points=\"-4,4 -4,-110 232,-110 232,4 -4,4\" stroke=\"none\"/>\n",
       "<!-- db.Setup -->\n",
       "<g class=\"node\" id=\"node1\"><title>db.Setup</title>\n",
       "<g id=\"a_node1\"><a xlink:title=\"setup_id             \r",
       "------------------------------\r",
       "setup_type           \r",
       "setup_location       \r",
       "\">\n",
       "<polygon fill=\"#00ff00\" fill-opacity=\"0.188235\" points=\"64,-106 0,-106 0,-71 64,-71 64,-106\" stroke=\"#00ff00\" stroke-opacity=\"0.188235\"/>\n",
       "<text fill=\"darkgreen\" font-family=\"arial\" font-size=\"12.00\" text-anchor=\"start\" text-decoration=\"underline\" x=\"8\" y=\"-86.4\">db.Setup</text>\n",
       "</a>\n",
       "</g>\n",
       "</g>\n",
       "<!-- db.Task -->\n",
       "<g class=\"node\" id=\"node2\"><title>db.Task</title>\n",
       "<g id=\"a_node2\"><a xlink:title=\"task_name            \r",
       "------------------------------\r",
       "target_size=null     \r",
       "target_position=null \r",
       "\">\n",
       "<polygon fill=\"#00ff00\" fill-opacity=\"0.188235\" points=\"141.5,-106 82.5,-106 82.5,-71 141.5,-71 141.5,-106\" stroke=\"#00ff00\" stroke-opacity=\"0.188235\"/>\n",
       "<text fill=\"darkgreen\" font-family=\"arial\" font-size=\"12.00\" text-anchor=\"start\" text-decoration=\"underline\" x=\"90.5\" y=\"-86.4\">db.Task</text>\n",
       "</a>\n",
       "</g>\n",
       "</g>\n",
       "<!-- db.BehaviorSession -->\n",
       "<g class=\"node\" id=\"node4\"><title>db.BehaviorSession</title>\n",
       "<g id=\"a_node4\"><a xlink:title=\"→ db.Mouse\r",
       "session_id           \r",
       "------------------------------\r",
       "→ db.Task\r",
       "experimenter         \r",
       "max_rewards          \r",
       "rewards_achieved     \r",
       "comments=null        \r",
       "\">\n",
       "<polygon fill=\"#00ff00\" fill-opacity=\"0.188235\" points=\"214,-35 92,-35 92,-0 214,-0 214,-35\" stroke=\"#00ff00\" stroke-opacity=\"0.188235\"/>\n",
       "<text fill=\"darkgreen\" font-family=\"arial\" font-size=\"12.00\" text-anchor=\"start\" text-decoration=\"underline\" x=\"100\" y=\"-15.4\">db.BehaviorSession</text>\n",
       "</a>\n",
       "</g>\n",
       "</g>\n",
       "<!-- db.Task&#45;&gt;db.BehaviorSession -->\n",
       "<g class=\"edge\" id=\"edge1\"><title>db.Task-&gt;db.BehaviorSession</title>\n",
       "<path d=\"M121.925,-70.797C128.371,-59.9485 136.738,-45.8669 143.166,-35.0492\" fill=\"none\" stroke=\"#000000\" stroke-dasharray=\"5,2\" stroke-opacity=\"0.250980\" stroke-width=\"0.75\"/>\n",
       "</g>\n",
       "<!-- db.Mouse -->\n",
       "<g class=\"node\" id=\"node3\"><title>db.Mouse</title>\n",
       "<g id=\"a_node3\"><a xlink:title=\"subject_id           \r",
       "------------------------------\r",
       "dob                  \r",
       "sex=&quot;U&quot;              \r",
       "strain=&quot;B6&quot;          \r",
       "\">\n",
       "<polygon fill=\"#00ff00\" fill-opacity=\"0.188235\" points=\"228,-106 160,-106 160,-71 228,-71 228,-106\" stroke=\"#00ff00\" stroke-opacity=\"0.188235\"/>\n",
       "<text fill=\"darkgreen\" font-family=\"arial\" font-size=\"12.00\" text-anchor=\"start\" text-decoration=\"underline\" x=\"168\" y=\"-86.4\">db.Mouse</text>\n",
       "</a>\n",
       "</g>\n",
       "</g>\n",
       "<!-- db.Mouse&#45;&gt;db.BehaviorSession -->\n",
       "<g class=\"edge\" id=\"edge2\"><title>db.Mouse-&gt;db.BehaviorSession</title>\n",
       "<path d=\"M184.075,-70.797C177.629,-59.9485 169.262,-45.8669 162.834,-35.0492\" fill=\"none\" stroke=\"#000000\" stroke-opacity=\"0.250980\" stroke-width=\"0.75\"/>\n",
       "</g>\n",
       "</g>\n",
       "</svg>"
      ],
      "text/plain": [
       "<datajoint.diagram.Diagram at 0x1dfcacb9488>"
      ]
     },
     "execution_count": 2,
     "metadata": {},
     "output_type": "execute_result"
    }
   ],
   "source": [
    "dj.ERD(db.schema)"
   ]
  },
  {
   "cell_type": "code",
   "execution_count": 3,
   "metadata": {},
   "outputs": [
    {
     "name": "stdout",
     "output_type": "stream",
     "text": [
      "\n",
      "    # behavior session\n",
      "    -> Mouse\n",
      "    session_id: int\n",
      "    ---\n",
      "    -> Task\n",
      "    -> Setup\n",
      "    date = CURRENT_TIMESTAMP: timestamp\n",
      "    experimenter: varchar(127)\n",
      "    study_name: varchar(127)\n",
      "    max_rewards: int\n",
      "    rewards_achieved: int\n",
      "    comments = null: varchar(2000)\n",
      "    \n",
      "\n",
      "    # a table of all mice used for behavior\n",
      "    subject_id: int # unique ID for this mouse\n",
      "    ---\n",
      "    dob: date\n",
      "    sex = 'U': enum('F','M', 'U') # sex of the mouse\n",
      "    strain = 'B6': enum('IT-Cre', 'PT-Cre', 'B6')\n",
      "    \n"
     ]
    }
   ],
   "source": [
    "print(db.BehaviorSession.definition)\n",
    "print(db.Mouse.definition)"
   ]
  },
  {
   "cell_type": "code",
   "execution_count": 4,
   "metadata": {},
   "outputs": [],
   "source": [
    "# start inserting some dummy data\n",
    "my_mice = db.Mouse()\n",
    "\n",
    "my_mice.insert([\n",
    "    (1, '2020-01-31', 'M', None),\n",
    "    (2, '2020-01-15', 'M', 'IT-Cre'),\n",
    "    (3, '2020-01-15', 'F', None),\n",
    "    (4, '2020-01-10', 'M', None),\n",
    "    (5, '2020-02-03', 'F', 'PT-Cre'), \n",
    "    (6, '2020-01-31', 'M', None),\n",
    "])\n"
   ]
  },
  {
   "cell_type": "code",
   "execution_count": 5,
   "metadata": {},
   "outputs": [
    {
     "data": {
      "text/html": [
       "\n",
       "        \n",
       "        <style type=\"text/css\">\n",
       "            .Relation{\n",
       "                border-collapse:collapse;\n",
       "            }\n",
       "            .Relation th{\n",
       "                background: #A0A0A0; color: #ffffff; padding:4px; border:#f0e0e0 1px solid;\n",
       "                font-weight: normal; font-family: monospace; font-size: 100%;\n",
       "            }\n",
       "            .Relation td{\n",
       "                padding:4px; border:#f0e0e0 1px solid; font-size:100%;\n",
       "            }\n",
       "            .Relation tr:nth-child(odd){\n",
       "                background: #ffffff;\n",
       "            }\n",
       "            .Relation tr:nth-child(even){\n",
       "                background: #f3f1ff;\n",
       "            }\n",
       "            /* Tooltip container */\n",
       "            .djtooltip {\n",
       "            }\n",
       "            /* Tooltip text */\n",
       "            .djtooltip .djtooltiptext {\n",
       "                visibility: hidden;\n",
       "                width: 120px;\n",
       "                background-color: black;\n",
       "                color: #fff;\n",
       "                text-align: center;\n",
       "                padding: 5px 0;\n",
       "                border-radius: 6px;\n",
       "                /* Position the tooltip text - see examples below! */\n",
       "                position: absolute;\n",
       "                z-index: 1;\n",
       "            }\n",
       "            #primary {\n",
       "                font-weight: bold;\n",
       "                color: black;\n",
       "            }\n",
       "\n",
       "            #nonprimary {\n",
       "                font-weight: normal;\n",
       "                color: white;\n",
       "            }\n",
       "\n",
       "            /* Show the tooltip text when you mouse over the tooltip container */\n",
       "            .djtooltip:hover .djtooltiptext {\n",
       "                visibility: visible;\n",
       "            }\n",
       "        </style>\n",
       "        \n",
       "        <b>a table of all mice used for behavior</b>\n",
       "            <div style=\"max-height:1000px;max-width:1500px;overflow:auto;\">\n",
       "            <table border=\"1\" class=\"Relation\">\n",
       "                <thead> <tr style=\"text-align: right;\"> <th> <div class=\"djtooltip\">\n",
       "                                <p id=\"primary\">subject_id</p>\n",
       "                                <span class=\"djtooltiptext\">unique ID for this mouse</span>\n",
       "                            </div></th><th><div class=\"djtooltip\">\n",
       "                                <p id=\"nonprimary\">dob</p>\n",
       "                                <span class=\"djtooltiptext\"></span>\n",
       "                            </div></th><th><div class=\"djtooltip\">\n",
       "                                <p id=\"nonprimary\">sex</p>\n",
       "                                <span class=\"djtooltiptext\">sex of the mouse</span>\n",
       "                            </div></th><th><div class=\"djtooltip\">\n",
       "                                <p id=\"nonprimary\">strain</p>\n",
       "                                <span class=\"djtooltiptext\"></span>\n",
       "                            </div> </th> </tr> </thead>\n",
       "                <tbody> <tr> <td>1</td>\n",
       "<td>2020-01-31 00:00:00</td>\n",
       "<td>M</td>\n",
       "<td>B6</td></tr><tr><td>2</td>\n",
       "<td>2020-01-15 00:00:00</td>\n",
       "<td>M</td>\n",
       "<td>IT-Cre</td></tr><tr><td>3</td>\n",
       "<td>2020-01-15 00:00:00</td>\n",
       "<td>F</td>\n",
       "<td>B6</td></tr><tr><td>4</td>\n",
       "<td>2020-01-10 00:00:00</td>\n",
       "<td>M</td>\n",
       "<td>B6</td></tr><tr><td>5</td>\n",
       "<td>2020-02-03 00:00:00</td>\n",
       "<td>F</td>\n",
       "<td>PT-Cre</td></tr><tr><td>6</td>\n",
       "<td>2020-01-31 00:00:00</td>\n",
       "<td>M</td>\n",
       "<td>B6</td> </tr> </tbody>\n",
       "            </table>\n",
       "            \n",
       "            <p>Total: 6</p></div>\n",
       "            "
      ],
      "text/plain": [
       "*subject_id    dob            sex     strain    \n",
       "+------------+ +------------+ +-----+ +--------+\n",
       "1              2020-01-31 00: M       B6        \n",
       "2              2020-01-15 00: M       IT-Cre    \n",
       "3              2020-01-15 00: F       B6        \n",
       "4              2020-01-10 00: M       B6        \n",
       "5              2020-02-03 00: F       PT-Cre    \n",
       "6              2020-01-31 00: M       B6        \n",
       " (Total: 6)"
      ]
     },
     "execution_count": 5,
     "metadata": {},
     "output_type": "execute_result"
    }
   ],
   "source": [
    "my_mice"
   ]
  },
  {
   "cell_type": "code",
   "execution_count": 6,
   "metadata": {},
   "outputs": [
    {
     "name": "stdout",
     "output_type": "stream",
     "text": [
      "\n",
      "    # task type\n",
      "    task_name: varchar(31)\n",
      "    ---\n",
      "    target_size=null: int # size of target in mm\n",
      "    target_position=null: enum('left','right')\n",
      "    \n"
     ]
    }
   ],
   "source": [
    "print(db.Task.definition)"
   ]
  },
  {
   "cell_type": "code",
   "execution_count": 7,
   "metadata": {},
   "outputs": [
    {
     "data": {
      "text/html": [
       "\n",
       "        \n",
       "        <style type=\"text/css\">\n",
       "            .Relation{\n",
       "                border-collapse:collapse;\n",
       "            }\n",
       "            .Relation th{\n",
       "                background: #A0A0A0; color: #ffffff; padding:4px; border:#f0e0e0 1px solid;\n",
       "                font-weight: normal; font-family: monospace; font-size: 100%;\n",
       "            }\n",
       "            .Relation td{\n",
       "                padding:4px; border:#f0e0e0 1px solid; font-size:100%;\n",
       "            }\n",
       "            .Relation tr:nth-child(odd){\n",
       "                background: #ffffff;\n",
       "            }\n",
       "            .Relation tr:nth-child(even){\n",
       "                background: #f3f1ff;\n",
       "            }\n",
       "            /* Tooltip container */\n",
       "            .djtooltip {\n",
       "            }\n",
       "            /* Tooltip text */\n",
       "            .djtooltip .djtooltiptext {\n",
       "                visibility: hidden;\n",
       "                width: 120px;\n",
       "                background-color: black;\n",
       "                color: #fff;\n",
       "                text-align: center;\n",
       "                padding: 5px 0;\n",
       "                border-radius: 6px;\n",
       "                /* Position the tooltip text - see examples below! */\n",
       "                position: absolute;\n",
       "                z-index: 1;\n",
       "            }\n",
       "            #primary {\n",
       "                font-weight: bold;\n",
       "                color: black;\n",
       "            }\n",
       "\n",
       "            #nonprimary {\n",
       "                font-weight: normal;\n",
       "                color: white;\n",
       "            }\n",
       "\n",
       "            /* Show the tooltip text when you mouse over the tooltip container */\n",
       "            .djtooltip:hover .djtooltiptext {\n",
       "                visibility: visible;\n",
       "            }\n",
       "        </style>\n",
       "        \n",
       "        <b>task type</b>\n",
       "            <div style=\"max-height:1000px;max-width:1500px;overflow:auto;\">\n",
       "            <table border=\"1\" class=\"Relation\">\n",
       "                <thead> <tr style=\"text-align: right;\"> <th> <div class=\"djtooltip\">\n",
       "                                <p id=\"primary\">task_name</p>\n",
       "                                <span class=\"djtooltiptext\"></span>\n",
       "                            </div></th><th><div class=\"djtooltip\">\n",
       "                                <p id=\"nonprimary\">target_size</p>\n",
       "                                <span class=\"djtooltiptext\">size of target in mm</span>\n",
       "                            </div></th><th><div class=\"djtooltip\">\n",
       "                                <p id=\"nonprimary\">target_position</p>\n",
       "                                <span class=\"djtooltiptext\"></span>\n",
       "                            </div> </th> </tr> </thead>\n",
       "                <tbody> <tr> <td>ChHome</td>\n",
       "<td>5</td>\n",
       "<td>right</td></tr><tr><td>Push</td>\n",
       "<td>None</td>\n",
       "<td>None</td></tr><tr><td>Target_1</td>\n",
       "<td>5</td>\n",
       "<td>right</td></tr><tr><td>Target_2</td>\n",
       "<td>5</td>\n",
       "<td>left</td></tr><tr><td>Touch</td>\n",
       "<td>None</td>\n",
       "<td>None</td> </tr> </tbody>\n",
       "            </table>\n",
       "            \n",
       "            <p>Total: 5</p></div>\n",
       "            "
      ],
      "text/plain": [
       "*task_name    target_size    target_positio\n",
       "+-----------+ +------------+ +------------+\n",
       "ChHome        5              right         \n",
       "Push          None           None          \n",
       "Target_1      5              right         \n",
       "Target_2      5              left          \n",
       "Touch         None           None          \n",
       " (Total: 5)"
      ]
     },
     "execution_count": 7,
     "metadata": {},
     "output_type": "execute_result"
    }
   ],
   "source": [
    "# start task table\n",
    "tasks = db.Task()\n",
    "\n",
    "tasks.insert([\n",
    "    ('Touch', None, None),\n",
    "    ('Push', None, None),\n",
    "    ('Target_1', 5, 'right'),\n",
    "    ('Target_2', 5, 'left'),\n",
    "    ('ChHome', 5, 'right'),\n",
    "\n",
    "])\n",
    "\n",
    "tasks"
   ]
  },
  {
   "cell_type": "code",
   "execution_count": 8,
   "metadata": {},
   "outputs": [
    {
     "name": "stdout",
     "output_type": "stream",
     "text": [
      "\n",
      "    # setup for training\n",
      "    setup_id: int\n",
      "    ---\n",
      "    setup_type: enum('TeenScience', 'MaxonEpos')\n",
      "    setup_location: enum('BehaviorRoom', '2PhotonRoom')\n",
      "    \n"
     ]
    }
   ],
   "source": [
    "print(db.Setup.definition)"
   ]
  },
  {
   "cell_type": "code",
   "execution_count": 9,
   "metadata": {},
   "outputs": [
    {
     "data": {
      "text/html": [
       "\n",
       "        \n",
       "        <style type=\"text/css\">\n",
       "            .Relation{\n",
       "                border-collapse:collapse;\n",
       "            }\n",
       "            .Relation th{\n",
       "                background: #A0A0A0; color: #ffffff; padding:4px; border:#f0e0e0 1px solid;\n",
       "                font-weight: normal; font-family: monospace; font-size: 100%;\n",
       "            }\n",
       "            .Relation td{\n",
       "                padding:4px; border:#f0e0e0 1px solid; font-size:100%;\n",
       "            }\n",
       "            .Relation tr:nth-child(odd){\n",
       "                background: #ffffff;\n",
       "            }\n",
       "            .Relation tr:nth-child(even){\n",
       "                background: #f3f1ff;\n",
       "            }\n",
       "            /* Tooltip container */\n",
       "            .djtooltip {\n",
       "            }\n",
       "            /* Tooltip text */\n",
       "            .djtooltip .djtooltiptext {\n",
       "                visibility: hidden;\n",
       "                width: 120px;\n",
       "                background-color: black;\n",
       "                color: #fff;\n",
       "                text-align: center;\n",
       "                padding: 5px 0;\n",
       "                border-radius: 6px;\n",
       "                /* Position the tooltip text - see examples below! */\n",
       "                position: absolute;\n",
       "                z-index: 1;\n",
       "            }\n",
       "            #primary {\n",
       "                font-weight: bold;\n",
       "                color: black;\n",
       "            }\n",
       "\n",
       "            #nonprimary {\n",
       "                font-weight: normal;\n",
       "                color: white;\n",
       "            }\n",
       "\n",
       "            /* Show the tooltip text when you mouse over the tooltip container */\n",
       "            .djtooltip:hover .djtooltiptext {\n",
       "                visibility: visible;\n",
       "            }\n",
       "        </style>\n",
       "        \n",
       "        <b>setup for training</b>\n",
       "            <div style=\"max-height:1000px;max-width:1500px;overflow:auto;\">\n",
       "            <table border=\"1\" class=\"Relation\">\n",
       "                <thead> <tr style=\"text-align: right;\"> <th> <div class=\"djtooltip\">\n",
       "                                <p id=\"primary\">setup_id</p>\n",
       "                                <span class=\"djtooltiptext\"></span>\n",
       "                            </div></th><th><div class=\"djtooltip\">\n",
       "                                <p id=\"nonprimary\">setup_type</p>\n",
       "                                <span class=\"djtooltiptext\"></span>\n",
       "                            </div></th><th><div class=\"djtooltip\">\n",
       "                                <p id=\"nonprimary\">setup_location</p>\n",
       "                                <span class=\"djtooltiptext\"></span>\n",
       "                            </div> </th> </tr> </thead>\n",
       "                <tbody> <tr> <td>1</td>\n",
       "<td>TeenScience</td>\n",
       "<td>BehaviorRoom</td></tr><tr><td>2</td>\n",
       "<td>MaxonEpos</td>\n",
       "<td>BehaviorRoom</td></tr><tr><td>3</td>\n",
       "<td>MaxonEpos</td>\n",
       "<td>BehaviorRoom</td></tr><tr><td>4</td>\n",
       "<td>MaxonEpos</td>\n",
       "<td>BehaviorRoom</td></tr><tr><td>5</td>\n",
       "<td>MaxonEpos</td>\n",
       "<td>2PhotonRoom</td> </tr> </tbody>\n",
       "            </table>\n",
       "            \n",
       "            <p>Total: 5</p></div>\n",
       "            "
      ],
      "text/plain": [
       "*setup_id    setup_type     setup_location\n",
       "+----------+ +------------+ +------------+\n",
       "1            TeenScience    BehaviorRoom  \n",
       "2            MaxonEpos      BehaviorRoom  \n",
       "3            MaxonEpos      BehaviorRoom  \n",
       "4            MaxonEpos      BehaviorRoom  \n",
       "5            MaxonEpos      2PhotonRoom   \n",
       " (Total: 5)"
      ]
     },
     "execution_count": 9,
     "metadata": {},
     "output_type": "execute_result"
    }
   ],
   "source": [
    "# start setup table\n",
    "setups = db.Setup()\n",
    "\n",
    "setups.insert([\n",
    "    (1, 'TeenScience', 'BehaviorRoom'),\n",
    "    (2, 'MaxonEpos', 'BehaviorRoom'),\n",
    "    (3, 'MaxonEpos', 'BehaviorRoom'),\n",
    "    (4, 'MaxonEpos', 'BehaviorRoom'),\n",
    "    (5, 'MaxonEpos', '2PhotonRoom'),\n",
    "])\n",
    "\n",
    "setups"
   ]
  },
  {
   "cell_type": "code",
   "execution_count": 10,
   "metadata": {},
   "outputs": [
    {
     "name": "stdout",
     "output_type": "stream",
     "text": [
      "\n",
      "    # behavior session\n",
      "    -> Mouse\n",
      "    session_id: int\n",
      "    ---\n",
      "    -> Task\n",
      "    -> Setup\n",
      "    date = CURRENT_TIMESTAMP: timestamp\n",
      "    experimenter: varchar(127)\n",
      "    study_name: varchar(127)\n",
      "    max_rewards: int\n",
      "    rewards_achieved: int\n",
      "    comments = null: varchar(2000)\n",
      "    \n"
     ]
    }
   ],
   "source": [
    "print(db.BehaviorSession.definition)"
   ]
  },
  {
   "cell_type": "code",
   "execution_count": 14,
   "metadata": {},
   "outputs": [
    {
     "name": "stdout",
     "output_type": "stream",
     "text": [
      "['task_name', 'experimenter', 'max_rewards', 'rewards_achieved', 'comments']\n"
     ]
    }
   ],
   "source": [
    "sess\n",
    "print(sess.heading.secondary_attributes)"
   ]
  },
  {
   "cell_type": "code",
   "execution_count": 11,
   "metadata": {},
   "outputs": [
    {
     "ename": "DataJointError",
     "evalue": "Invalid insert argument. Incorrect number of attributes: 10 given; 7 expected",
     "output_type": "error",
     "traceback": [
      "\u001b[1;31m---------------------------------------------------------------------------\u001b[0m",
      "\u001b[1;31mDataJointError\u001b[0m                            Traceback (most recent call last)",
      "\u001b[1;32m<ipython-input-11-2e9a242bf5b9>\u001b[0m in \u001b[0;36m<module>\u001b[1;34m\u001b[0m\n\u001b[0;32m      7\u001b[0m     \u001b[1;33m(\u001b[0m\u001b[1;36m4\u001b[0m\u001b[1;33m,\u001b[0m \u001b[1;36m1\u001b[0m\u001b[1;33m,\u001b[0m \u001b[1;34m'Touch'\u001b[0m\u001b[1;33m,\u001b[0m \u001b[1;36m2\u001b[0m\u001b[1;33m,\u001b[0m \u001b[1;32mNone\u001b[0m\u001b[1;33m,\u001b[0m \u001b[1;34m'AliceMosberger'\u001b[0m\u001b[1;33m,\u001b[0m \u001b[1;34m'TS-1'\u001b[0m\u001b[1;33m,\u001b[0m \u001b[1;36m50\u001b[0m\u001b[1;33m,\u001b[0m \u001b[1;36m30\u001b[0m\u001b[1;33m,\u001b[0m \u001b[1;32mNone\u001b[0m\u001b[1;33m)\u001b[0m\u001b[1;33m,\u001b[0m\u001b[1;33m\u001b[0m\u001b[1;33m\u001b[0m\u001b[0m\n\u001b[0;32m      8\u001b[0m     \u001b[1;33m(\u001b[0m\u001b[1;36m5\u001b[0m\u001b[1;33m,\u001b[0m \u001b[1;36m1\u001b[0m\u001b[1;33m,\u001b[0m \u001b[1;34m'Touch'\u001b[0m\u001b[1;33m,\u001b[0m \u001b[1;36m3\u001b[0m\u001b[1;33m,\u001b[0m \u001b[1;32mNone\u001b[0m\u001b[1;33m,\u001b[0m \u001b[1;34m'AliceMosberger'\u001b[0m\u001b[1;33m,\u001b[0m \u001b[1;34m'TS-1'\u001b[0m\u001b[1;33m,\u001b[0m \u001b[1;36m50\u001b[0m\u001b[1;33m,\u001b[0m \u001b[1;36m10\u001b[0m\u001b[1;33m,\u001b[0m \u001b[1;32mNone\u001b[0m\u001b[1;33m)\u001b[0m\u001b[1;33m,\u001b[0m\u001b[1;33m\u001b[0m\u001b[1;33m\u001b[0m\u001b[0m\n\u001b[1;32m----> 9\u001b[1;33m     \u001b[1;33m(\u001b[0m\u001b[1;36m6\u001b[0m\u001b[1;33m,\u001b[0m \u001b[1;36m1\u001b[0m\u001b[1;33m,\u001b[0m \u001b[1;34m'Touch'\u001b[0m\u001b[1;33m,\u001b[0m \u001b[1;36m3\u001b[0m\u001b[1;33m,\u001b[0m \u001b[1;32mNone\u001b[0m\u001b[1;33m,\u001b[0m \u001b[1;34m'AliceMosberger'\u001b[0m\u001b[1;33m,\u001b[0m \u001b[1;34m'TS-1'\u001b[0m\u001b[1;33m,\u001b[0m \u001b[1;36m50\u001b[0m\u001b[1;33m,\u001b[0m \u001b[1;36m50\u001b[0m\u001b[1;33m,\u001b[0m \u001b[1;32mNone\u001b[0m\u001b[1;33m)\u001b[0m\u001b[1;33m,\u001b[0m\u001b[1;33m\u001b[0m\u001b[1;33m\u001b[0m\u001b[0m\n\u001b[0m\u001b[0;32m     10\u001b[0m ])\n",
      "\u001b[1;32m~\\AppData\\Roaming\\Python\\Python37\\site-packages\\datajoint\\table.py\u001b[0m in \u001b[0;36minsert\u001b[1;34m(self, rows, replace, skip_duplicates, ignore_extra_fields, allow_direct_insert)\u001b[0m\n\u001b[0;32m    422\u001b[0m \u001b[1;33m\u001b[0m\u001b[0m\n\u001b[0;32m    423\u001b[0m         \u001b[0mfield_list\u001b[0m \u001b[1;33m=\u001b[0m \u001b[1;33m[\u001b[0m\u001b[1;33m]\u001b[0m  \u001b[1;31m# collects the field list from first row (passed by reference)\u001b[0m\u001b[1;33m\u001b[0m\u001b[1;33m\u001b[0m\u001b[0m\n\u001b[1;32m--> 424\u001b[1;33m         \u001b[0mrows\u001b[0m \u001b[1;33m=\u001b[0m \u001b[0mlist\u001b[0m\u001b[1;33m(\u001b[0m\u001b[0mself\u001b[0m\u001b[1;33m.\u001b[0m\u001b[0m__make_row_to_insert\u001b[0m\u001b[1;33m(\u001b[0m\u001b[0mrow\u001b[0m\u001b[1;33m,\u001b[0m \u001b[0mfield_list\u001b[0m\u001b[1;33m,\u001b[0m \u001b[0mignore_extra_fields\u001b[0m\u001b[1;33m)\u001b[0m \u001b[1;32mfor\u001b[0m \u001b[0mrow\u001b[0m \u001b[1;32min\u001b[0m \u001b[0mrows\u001b[0m\u001b[1;33m)\u001b[0m\u001b[1;33m\u001b[0m\u001b[1;33m\u001b[0m\u001b[0m\n\u001b[0m\u001b[0;32m    425\u001b[0m         \u001b[1;32mif\u001b[0m \u001b[0mrows\u001b[0m\u001b[1;33m:\u001b[0m\u001b[1;33m\u001b[0m\u001b[1;33m\u001b[0m\u001b[0m\n\u001b[0;32m    426\u001b[0m             \u001b[1;32mtry\u001b[0m\u001b[1;33m:\u001b[0m\u001b[1;33m\u001b[0m\u001b[1;33m\u001b[0m\u001b[0m\n",
      "\u001b[1;32m~\\AppData\\Roaming\\Python\\Python37\\site-packages\\datajoint\\table.py\u001b[0m in \u001b[0;36m<genexpr>\u001b[1;34m(.0)\u001b[0m\n\u001b[0;32m    422\u001b[0m \u001b[1;33m\u001b[0m\u001b[0m\n\u001b[0;32m    423\u001b[0m         \u001b[0mfield_list\u001b[0m \u001b[1;33m=\u001b[0m \u001b[1;33m[\u001b[0m\u001b[1;33m]\u001b[0m  \u001b[1;31m# collects the field list from first row (passed by reference)\u001b[0m\u001b[1;33m\u001b[0m\u001b[1;33m\u001b[0m\u001b[0m\n\u001b[1;32m--> 424\u001b[1;33m         \u001b[0mrows\u001b[0m \u001b[1;33m=\u001b[0m \u001b[0mlist\u001b[0m\u001b[1;33m(\u001b[0m\u001b[0mself\u001b[0m\u001b[1;33m.\u001b[0m\u001b[0m__make_row_to_insert\u001b[0m\u001b[1;33m(\u001b[0m\u001b[0mrow\u001b[0m\u001b[1;33m,\u001b[0m \u001b[0mfield_list\u001b[0m\u001b[1;33m,\u001b[0m \u001b[0mignore_extra_fields\u001b[0m\u001b[1;33m)\u001b[0m \u001b[1;32mfor\u001b[0m \u001b[0mrow\u001b[0m \u001b[1;32min\u001b[0m \u001b[0mrows\u001b[0m\u001b[1;33m)\u001b[0m\u001b[1;33m\u001b[0m\u001b[1;33m\u001b[0m\u001b[0m\n\u001b[0m\u001b[0;32m    425\u001b[0m         \u001b[1;32mif\u001b[0m \u001b[0mrows\u001b[0m\u001b[1;33m:\u001b[0m\u001b[1;33m\u001b[0m\u001b[1;33m\u001b[0m\u001b[0m\n\u001b[0;32m    426\u001b[0m             \u001b[1;32mtry\u001b[0m\u001b[1;33m:\u001b[0m\u001b[1;33m\u001b[0m\u001b[1;33m\u001b[0m\u001b[0m\n",
      "\u001b[1;32m~\\AppData\\Roaming\\Python\\Python37\\site-packages\\datajoint\\table.py\u001b[0m in \u001b[0;36m__make_row_to_insert\u001b[1;34m(self, row, field_list, ignore_extra_fields)\u001b[0m\n\u001b[0;32m    889\u001b[0m                         \u001b[1;34m'Invalid insert argument. Incorrect number of attributes: '\u001b[0m\u001b[1;33m\u001b[0m\u001b[1;33m\u001b[0m\u001b[0m\n\u001b[0;32m    890\u001b[0m                         '{given} given; {expected} expected'.format(\n\u001b[1;32m--> 891\u001b[1;33m                             given=len(row), expected=len(self.heading)))\n\u001b[0m\u001b[0;32m    892\u001b[0m             \u001b[1;32mexcept\u001b[0m \u001b[0mTypeError\u001b[0m\u001b[1;33m:\u001b[0m\u001b[1;33m\u001b[0m\u001b[1;33m\u001b[0m\u001b[0m\n\u001b[0;32m    893\u001b[0m                 \u001b[1;32mraise\u001b[0m \u001b[0mDataJointError\u001b[0m\u001b[1;33m(\u001b[0m\u001b[1;34m'Datatype %s cannot be inserted'\u001b[0m \u001b[1;33m%\u001b[0m \u001b[0mtype\u001b[0m\u001b[1;33m(\u001b[0m\u001b[0mrow\u001b[0m\u001b[1;33m)\u001b[0m\u001b[1;33m)\u001b[0m\u001b[1;33m\u001b[0m\u001b[1;33m\u001b[0m\u001b[0m\n",
      "\u001b[1;31mDataJointError\u001b[0m: Invalid insert argument. Incorrect number of attributes: 10 given; 7 expected"
     ]
    }
   ],
   "source": [
    "sess = db.BehaviorSession()\n",
    "\n",
    "sess.insert([\n",
    "    (1, 1, 'Touch', 1, None, 'AliceMosberger', 'TS-1', 50, 50, None),\n",
    "    (2, 1, 'Touch', 1, None, 'AliceMosberger', 'TS-1', 50, 20, None),\n",
    "    (3, 1, 'Touch', 2, None, 'AliceMosberger', 'TS-1', 50, 28, None),\n",
    "    (4, 1, 'Touch', 2, None, 'AliceMosberger', 'TS-1', 50, 30, None),\n",
    "    (5, 1, 'Touch', 3, None, 'AliceMosberger', 'TS-1', 50, 10, None),\n",
    "    (6, 1, 'Touch', 3, None, 'AliceMosberger', 'TS-1', 50, 50, None),\n",
    "])"
   ]
  },
  {
   "cell_type": "code",
   "execution_count": 12,
   "metadata": {},
   "outputs": [
    {
     "data": {
      "text/html": [
       "\n",
       "        \n",
       "        <style type=\"text/css\">\n",
       "            .Relation{\n",
       "                border-collapse:collapse;\n",
       "            }\n",
       "            .Relation th{\n",
       "                background: #A0A0A0; color: #ffffff; padding:4px; border:#f0e0e0 1px solid;\n",
       "                font-weight: normal; font-family: monospace; font-size: 100%;\n",
       "            }\n",
       "            .Relation td{\n",
       "                padding:4px; border:#f0e0e0 1px solid; font-size:100%;\n",
       "            }\n",
       "            .Relation tr:nth-child(odd){\n",
       "                background: #ffffff;\n",
       "            }\n",
       "            .Relation tr:nth-child(even){\n",
       "                background: #f3f1ff;\n",
       "            }\n",
       "            /* Tooltip container */\n",
       "            .djtooltip {\n",
       "            }\n",
       "            /* Tooltip text */\n",
       "            .djtooltip .djtooltiptext {\n",
       "                visibility: hidden;\n",
       "                width: 120px;\n",
       "                background-color: black;\n",
       "                color: #fff;\n",
       "                text-align: center;\n",
       "                padding: 5px 0;\n",
       "                border-radius: 6px;\n",
       "                /* Position the tooltip text - see examples below! */\n",
       "                position: absolute;\n",
       "                z-index: 1;\n",
       "            }\n",
       "            #primary {\n",
       "                font-weight: bold;\n",
       "                color: black;\n",
       "            }\n",
       "\n",
       "            #nonprimary {\n",
       "                font-weight: normal;\n",
       "                color: white;\n",
       "            }\n",
       "\n",
       "            /* Show the tooltip text when you mouse over the tooltip container */\n",
       "            .djtooltip:hover .djtooltiptext {\n",
       "                visibility: visible;\n",
       "            }\n",
       "        </style>\n",
       "        \n",
       "        <b>behavior session</b>\n",
       "            <div style=\"max-height:1000px;max-width:1500px;overflow:auto;\">\n",
       "            <table border=\"1\" class=\"Relation\">\n",
       "                <thead> <tr style=\"text-align: right;\"> <th> <div class=\"djtooltip\">\n",
       "                                <p id=\"primary\">subject_id</p>\n",
       "                                <span class=\"djtooltiptext\">unique ID for this mouse</span>\n",
       "                            </div></th><th><div class=\"djtooltip\">\n",
       "                                <p id=\"primary\">session_id</p>\n",
       "                                <span class=\"djtooltiptext\"></span>\n",
       "                            </div></th><th><div class=\"djtooltip\">\n",
       "                                <p id=\"nonprimary\">task_name</p>\n",
       "                                <span class=\"djtooltiptext\"></span>\n",
       "                            </div></th><th><div class=\"djtooltip\">\n",
       "                                <p id=\"nonprimary\">experimenter</p>\n",
       "                                <span class=\"djtooltiptext\"></span>\n",
       "                            </div></th><th><div class=\"djtooltip\">\n",
       "                                <p id=\"nonprimary\">max_rewards</p>\n",
       "                                <span class=\"djtooltiptext\"></span>\n",
       "                            </div></th><th><div class=\"djtooltip\">\n",
       "                                <p id=\"nonprimary\">rewards_achieved</p>\n",
       "                                <span class=\"djtooltiptext\"></span>\n",
       "                            </div></th><th><div class=\"djtooltip\">\n",
       "                                <p id=\"nonprimary\">comments</p>\n",
       "                                <span class=\"djtooltiptext\"></span>\n",
       "                            </div> </th> </tr> </thead>\n",
       "                <tbody> <tr>  </tr> </tbody>\n",
       "            </table>\n",
       "            \n",
       "            <p>Total: 0</p></div>\n",
       "            "
      ],
      "text/plain": [
       "*subject_id    *session_id    task_name     experimenter   max_rewards    rewards_achiev comments    \n",
       "+------------+ +------------+ +-----------+ +------------+ +------------+ +------------+ +----------+\n",
       "\n",
       " (Total: 0)"
      ]
     },
     "execution_count": 12,
     "metadata": {},
     "output_type": "execute_result"
    }
   ],
   "source": [
    "sess"
   ]
  },
  {
   "cell_type": "code",
   "execution_count": null,
   "metadata": {},
   "outputs": [],
   "source": [
    "my_mice.delete()\n",
    "setups.delete()\n",
    "tasks.delete()\n",
    "sess.delete()"
   ]
  },
  {
   "cell_type": "code",
   "execution_count": null,
   "metadata": {},
   "outputs": [],
   "source": []
  }
 ],
 "metadata": {
  "kernelspec": {
   "display_name": "Python 3",
   "language": "python",
   "name": "python3"
  },
  "language_info": {
   "codemirror_mode": {
    "name": "ipython",
    "version": 3
   },
   "file_extension": ".py",
   "mimetype": "text/x-python",
   "name": "python",
   "nbconvert_exporter": "python",
   "pygments_lexer": "ipython3",
   "version": "3.7.7"
  }
 },
 "nbformat": 4,
 "nbformat_minor": 4
}
