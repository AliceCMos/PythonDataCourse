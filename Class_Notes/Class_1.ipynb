{
 "cells": [
  {
   "cell_type": "code",
   "execution_count": 1,
   "metadata": {},
   "outputs": [
    {
     "name": "stdout",
     "output_type": "stream",
     "text": [
      "10\n"
     ]
    }
   ],
   "source": [
    "# PART 1: Datatypes\n",
    "\n",
    "x=10\n",
    "print(x)"
   ]
  },
  {
   "cell_type": "code",
   "execution_count": 2,
   "metadata": {},
   "outputs": [
    {
     "data": {
      "text/plain": [
       "int"
      ]
     },
     "execution_count": 2,
     "metadata": {},
     "output_type": "execute_result"
    }
   ],
   "source": [
    "type(x)"
   ]
  },
  {
   "cell_type": "code",
   "execution_count": 3,
   "metadata": {},
   "outputs": [
    {
     "data": {
      "text/plain": [
       "float"
      ]
     },
     "execution_count": 3,
     "metadata": {},
     "output_type": "execute_result"
    }
   ],
   "source": [
    "x=10.01\n",
    "type(x)"
   ]
  },
  {
   "cell_type": "code",
   "execution_count": 4,
   "metadata": {},
   "outputs": [
    {
     "data": {
      "text/plain": [
       "10"
      ]
     },
     "execution_count": 4,
     "metadata": {},
     "output_type": "execute_result"
    }
   ],
   "source": [
    "# int() makes all variables into int, saves memory\n",
    "int(x)"
   ]
  },
  {
   "cell_type": "code",
   "execution_count": 5,
   "metadata": {},
   "outputs": [
    {
     "data": {
      "text/plain": [
       "True"
      ]
     },
     "execution_count": 5,
     "metadata": {},
     "output_type": "execute_result"
    }
   ],
   "source": [
    "# boolean, stores ture or false value\n",
    "# == is equal?\n",
    "# != is not equal?\n",
    "\n",
    "1==1\n"
   ]
  },
  {
   "cell_type": "code",
   "execution_count": 6,
   "metadata": {},
   "outputs": [
    {
     "data": {
      "text/plain": [
       "False"
      ]
     },
     "execution_count": 6,
     "metadata": {},
     "output_type": "execute_result"
    }
   ],
   "source": [
    "1==3"
   ]
  },
  {
   "cell_type": "code",
   "execution_count": 7,
   "metadata": {},
   "outputs": [
    {
     "name": "stdout",
     "output_type": "stream",
     "text": [
      "True False\n"
     ]
    }
   ],
   "source": [
    "a=1==1\n",
    "b=1==2\n",
    "print(a,b)"
   ]
  },
  {
   "cell_type": "code",
   "execution_count": 10,
   "metadata": {},
   "outputs": [
    {
     "data": {
      "text/plain": [
       "5"
      ]
     },
     "execution_count": 10,
     "metadata": {},
     "output_type": "execute_result"
    }
   ],
   "source": [
    "# strings: datatype that stores character information. place in \" \"\n",
    "me = \"alice\"\n",
    "len(me)"
   ]
  },
  {
   "cell_type": "code",
   "execution_count": 11,
   "metadata": {},
   "outputs": [
    {
     "data": {
      "text/plain": [
       "['__add__',\n",
       " '__class__',\n",
       " '__contains__',\n",
       " '__delattr__',\n",
       " '__dir__',\n",
       " '__doc__',\n",
       " '__eq__',\n",
       " '__format__',\n",
       " '__ge__',\n",
       " '__getattribute__',\n",
       " '__getitem__',\n",
       " '__getnewargs__',\n",
       " '__gt__',\n",
       " '__hash__',\n",
       " '__init__',\n",
       " '__init_subclass__',\n",
       " '__iter__',\n",
       " '__le__',\n",
       " '__len__',\n",
       " '__lt__',\n",
       " '__mod__',\n",
       " '__mul__',\n",
       " '__ne__',\n",
       " '__new__',\n",
       " '__reduce__',\n",
       " '__reduce_ex__',\n",
       " '__repr__',\n",
       " '__rmod__',\n",
       " '__rmul__',\n",
       " '__setattr__',\n",
       " '__sizeof__',\n",
       " '__str__',\n",
       " '__subclasshook__',\n",
       " 'capitalize',\n",
       " 'casefold',\n",
       " 'center',\n",
       " 'count',\n",
       " 'encode',\n",
       " 'endswith',\n",
       " 'expandtabs',\n",
       " 'find',\n",
       " 'format',\n",
       " 'format_map',\n",
       " 'index',\n",
       " 'isalnum',\n",
       " 'isalpha',\n",
       " 'isascii',\n",
       " 'isdecimal',\n",
       " 'isdigit',\n",
       " 'isidentifier',\n",
       " 'islower',\n",
       " 'isnumeric',\n",
       " 'isprintable',\n",
       " 'isspace',\n",
       " 'istitle',\n",
       " 'isupper',\n",
       " 'join',\n",
       " 'ljust',\n",
       " 'lower',\n",
       " 'lstrip',\n",
       " 'maketrans',\n",
       " 'partition',\n",
       " 'replace',\n",
       " 'rfind',\n",
       " 'rindex',\n",
       " 'rjust',\n",
       " 'rpartition',\n",
       " 'rsplit',\n",
       " 'rstrip',\n",
       " 'split',\n",
       " 'splitlines',\n",
       " 'startswith',\n",
       " 'strip',\n",
       " 'swapcase',\n",
       " 'title',\n",
       " 'translate',\n",
       " 'upper',\n",
       " 'zfill']"
      ]
     },
     "execution_count": 11,
     "metadata": {},
     "output_type": "execute_result"
    }
   ],
   "source": [
    "# objects are associated with methods (tools), everything in python is a method.\n",
    "# look at all attributes of a method with dir\n",
    "\n",
    "animal = \"lemming\"\n",
    "dir(animal)\n",
    "\n",
    "# methods are built in tools to run on the object. all these are methods."
   ]
  },
  {
   "cell_type": "code",
   "execution_count": 13,
   "metadata": {},
   "outputs": [
    {
     "data": {
      "text/plain": [
       "'Lemming'"
      ]
     },
     "execution_count": 13,
     "metadata": {},
     "output_type": "execute_result"
    }
   ],
   "source": [
    "# apply the method on your object with \"object.method()\"\n",
    "animal.capitalize()"
   ]
  },
  {
   "cell_type": "code",
   "execution_count": 14,
   "metadata": {},
   "outputs": [
    {
     "name": "stdout",
     "output_type": "stream",
     "text": [
      "Help on class str in module builtins:\n",
      "\n",
      "class str(object)\n",
      " |  str(object='') -> str\n",
      " |  str(bytes_or_buffer[, encoding[, errors]]) -> str\n",
      " |  \n",
      " |  Create a new string object from the given object. If encoding or\n",
      " |  errors is specified, then the object must expose a data buffer\n",
      " |  that will be decoded using the given encoding and error handler.\n",
      " |  Otherwise, returns the result of object.__str__() (if defined)\n",
      " |  or repr(object).\n",
      " |  encoding defaults to sys.getdefaultencoding().\n",
      " |  errors defaults to 'strict'.\n",
      " |  \n",
      " |  Methods defined here:\n",
      " |  \n",
      " |  __add__(self, value, /)\n",
      " |      Return self+value.\n",
      " |  \n",
      " |  __contains__(self, key, /)\n",
      " |      Return key in self.\n",
      " |  \n",
      " |  __eq__(self, value, /)\n",
      " |      Return self==value.\n",
      " |  \n",
      " |  __format__(self, format_spec, /)\n",
      " |      Return a formatted version of the string as described by format_spec.\n",
      " |  \n",
      " |  __ge__(self, value, /)\n",
      " |      Return self>=value.\n",
      " |  \n",
      " |  __getattribute__(self, name, /)\n",
      " |      Return getattr(self, name).\n",
      " |  \n",
      " |  __getitem__(self, key, /)\n",
      " |      Return self[key].\n",
      " |  \n",
      " |  __getnewargs__(...)\n",
      " |  \n",
      " |  __gt__(self, value, /)\n",
      " |      Return self>value.\n",
      " |  \n",
      " |  __hash__(self, /)\n",
      " |      Return hash(self).\n",
      " |  \n",
      " |  __iter__(self, /)\n",
      " |      Implement iter(self).\n",
      " |  \n",
      " |  __le__(self, value, /)\n",
      " |      Return self<=value.\n",
      " |  \n",
      " |  __len__(self, /)\n",
      " |      Return len(self).\n",
      " |  \n",
      " |  __lt__(self, value, /)\n",
      " |      Return self<value.\n",
      " |  \n",
      " |  __mod__(self, value, /)\n",
      " |      Return self%value.\n",
      " |  \n",
      " |  __mul__(self, value, /)\n",
      " |      Return self*value.\n",
      " |  \n",
      " |  __ne__(self, value, /)\n",
      " |      Return self!=value.\n",
      " |  \n",
      " |  __repr__(self, /)\n",
      " |      Return repr(self).\n",
      " |  \n",
      " |  __rmod__(self, value, /)\n",
      " |      Return value%self.\n",
      " |  \n",
      " |  __rmul__(self, value, /)\n",
      " |      Return value*self.\n",
      " |  \n",
      " |  __sizeof__(self, /)\n",
      " |      Return the size of the string in memory, in bytes.\n",
      " |  \n",
      " |  __str__(self, /)\n",
      " |      Return str(self).\n",
      " |  \n",
      " |  capitalize(self, /)\n",
      " |      Return a capitalized version of the string.\n",
      " |      \n",
      " |      More specifically, make the first character have upper case and the rest lower\n",
      " |      case.\n",
      " |  \n",
      " |  casefold(self, /)\n",
      " |      Return a version of the string suitable for caseless comparisons.\n",
      " |  \n",
      " |  center(self, width, fillchar=' ', /)\n",
      " |      Return a centered string of length width.\n",
      " |      \n",
      " |      Padding is done using the specified fill character (default is a space).\n",
      " |  \n",
      " |  count(...)\n",
      " |      S.count(sub[, start[, end]]) -> int\n",
      " |      \n",
      " |      Return the number of non-overlapping occurrences of substring sub in\n",
      " |      string S[start:end].  Optional arguments start and end are\n",
      " |      interpreted as in slice notation.\n",
      " |  \n",
      " |  encode(self, /, encoding='utf-8', errors='strict')\n",
      " |      Encode the string using the codec registered for encoding.\n",
      " |      \n",
      " |      encoding\n",
      " |        The encoding in which to encode the string.\n",
      " |      errors\n",
      " |        The error handling scheme to use for encoding errors.\n",
      " |        The default is 'strict' meaning that encoding errors raise a\n",
      " |        UnicodeEncodeError.  Other possible values are 'ignore', 'replace' and\n",
      " |        'xmlcharrefreplace' as well as any other name registered with\n",
      " |        codecs.register_error that can handle UnicodeEncodeErrors.\n",
      " |  \n",
      " |  endswith(...)\n",
      " |      S.endswith(suffix[, start[, end]]) -> bool\n",
      " |      \n",
      " |      Return True if S ends with the specified suffix, False otherwise.\n",
      " |      With optional start, test S beginning at that position.\n",
      " |      With optional end, stop comparing S at that position.\n",
      " |      suffix can also be a tuple of strings to try.\n",
      " |  \n",
      " |  expandtabs(self, /, tabsize=8)\n",
      " |      Return a copy where all tab characters are expanded using spaces.\n",
      " |      \n",
      " |      If tabsize is not given, a tab size of 8 characters is assumed.\n",
      " |  \n",
      " |  find(...)\n",
      " |      S.find(sub[, start[, end]]) -> int\n",
      " |      \n",
      " |      Return the lowest index in S where substring sub is found,\n",
      " |      such that sub is contained within S[start:end].  Optional\n",
      " |      arguments start and end are interpreted as in slice notation.\n",
      " |      \n",
      " |      Return -1 on failure.\n",
      " |  \n",
      " |  format(...)\n",
      " |      S.format(*args, **kwargs) -> str\n",
      " |      \n",
      " |      Return a formatted version of S, using substitutions from args and kwargs.\n",
      " |      The substitutions are identified by braces ('{' and '}').\n",
      " |  \n",
      " |  format_map(...)\n",
      " |      S.format_map(mapping) -> str\n",
      " |      \n",
      " |      Return a formatted version of S, using substitutions from mapping.\n",
      " |      The substitutions are identified by braces ('{' and '}').\n",
      " |  \n",
      " |  index(...)\n",
      " |      S.index(sub[, start[, end]]) -> int\n",
      " |      \n",
      " |      Return the lowest index in S where substring sub is found, \n",
      " |      such that sub is contained within S[start:end].  Optional\n",
      " |      arguments start and end are interpreted as in slice notation.\n",
      " |      \n",
      " |      Raises ValueError when the substring is not found.\n",
      " |  \n",
      " |  isalnum(self, /)\n",
      " |      Return True if the string is an alpha-numeric string, False otherwise.\n",
      " |      \n",
      " |      A string is alpha-numeric if all characters in the string are alpha-numeric and\n",
      " |      there is at least one character in the string.\n",
      " |  \n",
      " |  isalpha(self, /)\n",
      " |      Return True if the string is an alphabetic string, False otherwise.\n",
      " |      \n",
      " |      A string is alphabetic if all characters in the string are alphabetic and there\n",
      " |      is at least one character in the string.\n",
      " |  \n",
      " |  isascii(self, /)\n",
      " |      Return True if all characters in the string are ASCII, False otherwise.\n",
      " |      \n",
      " |      ASCII characters have code points in the range U+0000-U+007F.\n",
      " |      Empty string is ASCII too.\n",
      " |  \n",
      " |  isdecimal(self, /)\n",
      " |      Return True if the string is a decimal string, False otherwise.\n",
      " |      \n",
      " |      A string is a decimal string if all characters in the string are decimal and\n",
      " |      there is at least one character in the string.\n",
      " |  \n",
      " |  isdigit(self, /)\n",
      " |      Return True if the string is a digit string, False otherwise.\n",
      " |      \n",
      " |      A string is a digit string if all characters in the string are digits and there\n",
      " |      is at least one character in the string.\n",
      " |  \n",
      " |  isidentifier(self, /)\n",
      " |      Return True if the string is a valid Python identifier, False otherwise.\n",
      " |      \n",
      " |      Use keyword.iskeyword() to test for reserved identifiers such as \"def\" and\n",
      " |      \"class\".\n",
      " |  \n",
      " |  islower(self, /)\n",
      " |      Return True if the string is a lowercase string, False otherwise.\n",
      " |      \n",
      " |      A string is lowercase if all cased characters in the string are lowercase and\n",
      " |      there is at least one cased character in the string.\n",
      " |  \n",
      " |  isnumeric(self, /)\n",
      " |      Return True if the string is a numeric string, False otherwise.\n",
      " |      \n",
      " |      A string is numeric if all characters in the string are numeric and there is at\n",
      " |      least one character in the string.\n",
      " |  \n",
      " |  isprintable(self, /)\n",
      " |      Return True if the string is printable, False otherwise.\n",
      " |      \n",
      " |      A string is printable if all of its characters are considered printable in\n",
      " |      repr() or if it is empty.\n",
      " |  \n",
      " |  isspace(self, /)\n",
      " |      Return True if the string is a whitespace string, False otherwise.\n",
      " |      \n",
      " |      A string is whitespace if all characters in the string are whitespace and there\n",
      " |      is at least one character in the string.\n",
      " |  \n",
      " |  istitle(self, /)\n",
      " |      Return True if the string is a title-cased string, False otherwise.\n",
      " |      \n",
      " |      In a title-cased string, upper- and title-case characters may only\n",
      " |      follow uncased characters and lowercase characters only cased ones.\n",
      " |  \n",
      " |  isupper(self, /)\n",
      " |      Return True if the string is an uppercase string, False otherwise.\n",
      " |      \n",
      " |      A string is uppercase if all cased characters in the string are uppercase and\n",
      " |      there is at least one cased character in the string.\n",
      " |  \n",
      " |  join(self, iterable, /)\n",
      " |      Concatenate any number of strings.\n",
      " |      \n",
      " |      The string whose method is called is inserted in between each given string.\n",
      " |      The result is returned as a new string.\n",
      " |      \n",
      " |      Example: '.'.join(['ab', 'pq', 'rs']) -> 'ab.pq.rs'\n",
      " |  \n",
      " |  ljust(self, width, fillchar=' ', /)\n",
      " |      Return a left-justified string of length width.\n",
      " |      \n",
      " |      Padding is done using the specified fill character (default is a space).\n",
      " |  \n",
      " |  lower(self, /)\n",
      " |      Return a copy of the string converted to lowercase.\n",
      " |  \n",
      " |  lstrip(self, chars=None, /)\n",
      " |      Return a copy of the string with leading whitespace removed.\n",
      " |      \n",
      " |      If chars is given and not None, remove characters in chars instead.\n",
      " |  \n",
      " |  partition(self, sep, /)\n",
      " |      Partition the string into three parts using the given separator.\n",
      " |      \n",
      " |      This will search for the separator in the string.  If the separator is found,\n",
      " |      returns a 3-tuple containing the part before the separator, the separator\n",
      " |      itself, and the part after it.\n",
      " |      \n",
      " |      If the separator is not found, returns a 3-tuple containing the original string\n",
      " |      and two empty strings.\n",
      " |  \n",
      " |  replace(self, old, new, count=-1, /)\n",
      " |      Return a copy with all occurrences of substring old replaced by new.\n",
      " |      \n",
      " |        count\n",
      " |          Maximum number of occurrences to replace.\n",
      " |          -1 (the default value) means replace all occurrences.\n",
      " |      \n",
      " |      If the optional argument count is given, only the first count occurrences are\n",
      " |      replaced.\n",
      " |  \n",
      " |  rfind(...)\n",
      " |      S.rfind(sub[, start[, end]]) -> int\n",
      " |      \n",
      " |      Return the highest index in S where substring sub is found,\n",
      " |      such that sub is contained within S[start:end].  Optional\n",
      " |      arguments start and end are interpreted as in slice notation.\n",
      " |      \n",
      " |      Return -1 on failure.\n",
      " |  \n",
      " |  rindex(...)\n",
      " |      S.rindex(sub[, start[, end]]) -> int\n",
      " |      \n",
      " |      Return the highest index in S where substring sub is found,\n",
      " |      such that sub is contained within S[start:end].  Optional\n",
      " |      arguments start and end are interpreted as in slice notation.\n",
      " |      \n",
      " |      Raises ValueError when the substring is not found.\n",
      " |  \n",
      " |  rjust(self, width, fillchar=' ', /)\n",
      " |      Return a right-justified string of length width.\n",
      " |      \n",
      " |      Padding is done using the specified fill character (default is a space).\n",
      " |  \n",
      " |  rpartition(self, sep, /)\n",
      " |      Partition the string into three parts using the given separator.\n",
      " |      \n",
      " |      This will search for the separator in the string, starting at the end. If\n",
      " |      the separator is found, returns a 3-tuple containing the part before the\n",
      " |      separator, the separator itself, and the part after it.\n",
      " |      \n",
      " |      If the separator is not found, returns a 3-tuple containing two empty strings\n",
      " |      and the original string.\n",
      " |  \n",
      " |  rsplit(self, /, sep=None, maxsplit=-1)\n",
      " |      Return a list of the words in the string, using sep as the delimiter string.\n",
      " |      \n",
      " |        sep\n",
      " |          The delimiter according which to split the string.\n",
      " |          None (the default value) means split according to any whitespace,\n",
      " |          and discard empty strings from the result.\n",
      " |        maxsplit\n",
      " |          Maximum number of splits to do.\n",
      " |          -1 (the default value) means no limit.\n",
      " |      \n",
      " |      Splits are done starting at the end of the string and working to the front.\n",
      " |  \n",
      " |  rstrip(self, chars=None, /)\n",
      " |      Return a copy of the string with trailing whitespace removed.\n",
      " |      \n",
      " |      If chars is given and not None, remove characters in chars instead.\n",
      " |  \n",
      " |  split(self, /, sep=None, maxsplit=-1)\n",
      " |      Return a list of the words in the string, using sep as the delimiter string.\n",
      " |      \n",
      " |      sep\n",
      " |        The delimiter according which to split the string.\n",
      " |        None (the default value) means split according to any whitespace,\n",
      " |        and discard empty strings from the result.\n",
      " |      maxsplit\n",
      " |        Maximum number of splits to do.\n",
      " |        -1 (the default value) means no limit.\n",
      " |  \n",
      " |  splitlines(self, /, keepends=False)\n",
      " |      Return a list of the lines in the string, breaking at line boundaries.\n",
      " |      \n",
      " |      Line breaks are not included in the resulting list unless keepends is given and\n",
      " |      true.\n",
      " |  \n",
      " |  startswith(...)\n",
      " |      S.startswith(prefix[, start[, end]]) -> bool\n",
      " |      \n",
      " |      Return True if S starts with the specified prefix, False otherwise.\n",
      " |      With optional start, test S beginning at that position.\n",
      " |      With optional end, stop comparing S at that position.\n",
      " |      prefix can also be a tuple of strings to try.\n",
      " |  \n",
      " |  strip(self, chars=None, /)\n",
      " |      Return a copy of the string with leading and trailing whitespace removed.\n",
      " |      \n",
      " |      If chars is given and not None, remove characters in chars instead.\n",
      " |  \n",
      " |  swapcase(self, /)\n",
      " |      Convert uppercase characters to lowercase and lowercase characters to uppercase.\n",
      " |  \n",
      " |  title(self, /)\n",
      " |      Return a version of the string where each word is titlecased.\n",
      " |      \n",
      " |      More specifically, words start with uppercased characters and all remaining\n",
      " |      cased characters have lower case.\n",
      " |  \n",
      " |  translate(self, table, /)\n",
      " |      Replace each character in the string using the given translation table.\n",
      " |      \n",
      " |        table\n",
      " |          Translation table, which must be a mapping of Unicode ordinals to\n",
      " |          Unicode ordinals, strings, or None.\n",
      " |      \n",
      " |      The table must implement lookup/indexing via __getitem__, for instance a\n",
      " |      dictionary or list.  If this operation raises LookupError, the character is\n",
      " |      left untouched.  Characters mapped to None are deleted.\n",
      " |  \n",
      " |  upper(self, /)\n",
      " |      Return a copy of the string converted to uppercase.\n",
      " |  \n",
      " |  zfill(self, width, /)\n",
      " |      Pad a numeric string with zeros on the left, to fill a field of the given width.\n",
      " |      \n",
      " |      The string is never truncated.\n",
      " |  \n",
      " |  ----------------------------------------------------------------------\n",
      " |  Static methods defined here:\n",
      " |  \n",
      " |  __new__(*args, **kwargs) from builtins.type\n",
      " |      Create and return a new object.  See help(type) for accurate signature.\n",
      " |  \n",
      " |  maketrans(x, y=None, z=None, /)\n",
      " |      Return a translation table usable for str.translate().\n",
      " |      \n",
      " |      If there is only one argument, it must be a dictionary mapping Unicode\n",
      " |      ordinals (integers) or characters to Unicode ordinals, strings or None.\n",
      " |      Character keys will be then converted to ordinals.\n",
      " |      If there are two arguments, they must be strings of equal length, and\n",
      " |      in the resulting dictionary, each character in x will be mapped to the\n",
      " |      character at the same position in y. If there is a third argument, it\n",
      " |      must be a string, whose characters will be mapped to None in the result.\n",
      "\n"
     ]
    }
   ],
   "source": [
    "# don't know the methods? type help(datatype)\n",
    "\n",
    "help(str)"
   ]
  },
  {
   "cell_type": "code",
   "execution_count": 15,
   "metadata": {},
   "outputs": [
    {
     "name": "stdout",
     "output_type": "stream",
     "text": [
      "Help on method_descriptor:\n",
      "\n",
      "replace(self, old, new, count=-1, /)\n",
      "    Return a copy with all occurrences of substring old replaced by new.\n",
      "    \n",
      "      count\n",
      "        Maximum number of occurrences to replace.\n",
      "        -1 (the default value) means replace all occurrences.\n",
      "    \n",
      "    If the optional argument count is given, only the first count occurrences are\n",
      "    replaced.\n",
      "\n"
     ]
    }
   ],
   "source": [
    "# this is a lot, what if you want only info on one method\n",
    "\n",
    "help(str.replace)"
   ]
  },
  {
   "cell_type": "code",
   "execution_count": 17,
   "metadata": {},
   "outputs": [
    {
     "name": "stdout",
     "output_type": "stream",
     "text": [
      "Help on method_descriptor:\n",
      "\n",
      "format(...)\n",
      "    S.format(*args, **kwargs) -> str\n",
      "    \n",
      "    Return a formatted version of S, using substitutions from args and kwargs.\n",
      "    The substitutions are identified by braces ('{' and '}').\n",
      "\n"
     ]
    }
   ],
   "source": [
    "# what if we have a more complicated method\n",
    "\n",
    "help(str.format)"
   ]
  },
  {
   "cell_type": "code",
   "execution_count": 18,
   "metadata": {},
   "outputs": [],
   "source": [
    "str.format?"
   ]
  },
  {
   "cell_type": "code",
   "execution_count": 22,
   "metadata": {},
   "outputs": [
    {
     "name": "stdout",
     "output_type": "stream",
     "text": [
      "one species that experiences occasional explosions in animal density is the lemming.\n"
     ]
    }
   ],
   "source": [
    "animal = \"lemming\"\n",
    "mysentence = \"one species that experiences occasional explosions in animal density is the {}.\".format(animal)\n",
    "print(mysentence)\n"
   ]
  },
  {
   "cell_type": "code",
   "execution_count": 25,
   "metadata": {},
   "outputs": [
    {
     "name": "stdout",
     "output_type": "stream",
     "text": [
      "lemmingexplosion\n",
      "lemming explosion\n"
     ]
    }
   ],
   "source": [
    "my_verb = 'explosion'\n",
    "print(animal + my_verb)\n",
    "print(animal + ' ' + my_verb)"
   ]
  },
  {
   "cell_type": "code",
   "execution_count": 26,
   "metadata": {},
   "outputs": [
    {
     "data": {
      "text/plain": [
       "'lemminglemminglemminglemminglemminglemminglemminglemminglemminglemminglemminglemminglemminglemminglemminglemminglemminglemminglemminglemminglemminglemminglemminglemminglemminglemminglemminglemminglemminglemminglemminglemminglemminglemminglemminglemminglemminglemminglemminglemminglemminglemminglemminglemminglemminglemminglemminglemminglemminglemminglemminglemminglemminglemminglemminglemminglemminglemminglemminglemminglemminglemminglemminglemminglemminglemminglemminglemminglemminglemminglemminglemminglemminglemminglemminglemminglemminglemminglemminglemminglemminglemminglemminglemminglemminglemminglemminglemminglemminglemminglemminglemminglemminglemminglemminglemminglemminglemminglemminglemminglemminglemminglemminglemminglemminglemminglemminglemminglemminglemminglemminglemminglemminglemminglemminglemminglemminglemminglemminglemminglemminglemminglemminglemminglemminglemminglemminglemminglemminglemminglemminglemminglemminglemminglemminglemminglemminglemminglemminglemminglemminglemminglemminglemminglemminglemminglemminglemminglemminglemminglemminglemminglemminglemminglemminglemminglemminglemminglemminglemminglemminglemminglemminglemminglemminglemminglemminglemminglemminglemminglemminglemminglemminglemminglemminglemminglemminglemminglemminglemminglemminglemminglemminglemminglemminglemminglemminglemminglemminglemminglemminglemminglemminglemminglemminglemminglemminglemminglemminglemminglemminglemminglemminglemminglemminglemminglemminglemminglemminglemminglemminglemminglemminglemminglemminglemminglemminglemminglemminglemminglemminglemminglemminglemminglemminglemminglemminglemminglemminglemminglemminglemminglemminglemminglemminglemminglemminglemminglemminglemminglemminglemminglemminglemminglemminglemminglemminglemminglemminglemminglemminglemminglemminglemminglemminglemminglemminglemminglemminglemminglemminglemminglemminglemminglemminglemminglemminglemminglemminglemminglemminglemminglemminglemminglemminglemminglemminglemminglemminglemminglemminglemminglemminglemminglemminglemminglemminglemminglemminglemminglemminglemminglemminglemminglemminglemminglemminglemminglemminglemminglemminglemminglemminglemminglemminglemminglemminglemminglemminglemminglemminglemminglemminglemminglemminglemminglemminglemminglemminglemminglemminglemminglemminglemminglemminglemminglemminglemminglemminglemminglemminglemminglemminglemminglemminglemminglemminglemminglemminglemminglemminglemminglemminglemminglemminglemminglemminglemminglemminglemminglemminglemminglemminglemminglemminglemminglemminglemminglemminglemminglemminglemminglemminglemminglemminglemminglemminglemminglemminglemminglemminglemminglemminglemminglemminglemminglemminglemminglemminglemminglemminglemminglemminglemminglemminglemminglemminglemminglemminglemminglemminglemminglemminglemminglemminglemminglemminglemminglemminglemminglemminglemminglemminglemminglemminglemminglemminglemminglemminglemminglemminglemminglemminglemminglemminglemminglemminglemminglemminglemminglemminglemminglemminglemminglemminglemminglemminglemminglemminglemminglemminglemminglemminglemminglemminglemminglemminglemminglemminglemminglemminglemminglemminglemminglemminglemminglemminglemminglemminglemminglemminglemminglemminglemminglemminglemminglemminglemminglemminglemminglemminglemminglemminglemminglemminglemminglemminglemminglemminglemminglemminglemminglemminglemminglemminglemminglemminglemminglemminglemminglemminglemminglemminglemminglemminglemminglemminglemminglemminglemminglemminglemminglemminglemminglemminglemminglemminglemminglemminglemminglemminglemminglemminglemminglemminglemminglemminglemminglemminglemminglemminglemminglemminglemminglemminglemminglemminglemminglemminglemminglemminglemminglemminglemminglemminglemminglemminglemminglemminglemminglemminglemminglemminglemminglemminglemminglemminglemminglemminglemminglemminglemminglemminglemminglemminglemminglemminglemminglemminglemminglemminglemminglemminglemminglemminglemminglemminglemminglemminglemminglemminglemminglemminglemminglemminglemminglemminglemminglemminglemminglemminglemminglemminglemminglemminglemminglemminglemminglemminglemminglemminglemminglemminglemminglemminglemminglemminglemminglemminglemminglemminglemminglemminglemminglemminglemminglemminglemminglemminglemminglemminglemminglemminglemminglemminglemminglemminglemminglemminglemminglemminglemminglemminglemminglemminglemminglemminglemminglemminglemminglemminglemminglemminglemminglemminglemminglemminglemminglemminglemminglemminglemminglemminglemminglemminglemminglemminglemminglemminglemminglemminglemminglemminglemminglemminglemminglemminglemminglemminglemminglemminglemminglemminglemminglemminglemminglemminglemminglemminglemminglemminglemminglemminglemminglemminglemminglemminglemminglemminglemminglemminglemminglemminglemminglemminglemminglemminglemminglemminglemminglemminglemminglemminglemminglemminglemminglemminglemminglemminglemminglemminglemminglemminglemminglemminglemminglemminglemminglemminglemminglemminglemminglemminglemminglemminglemminglemminglemminglemminglemminglemminglemminglemminglemminglemminglemminglemminglemminglemminglemminglemminglemminglemminglemminglemminglemminglemminglemminglemminglemminglemminglemminglemminglemminglemminglemminglemminglemminglemminglemminglemminglemminglemminglemminglemminglemminglemminglemminglemminglemminglemminglemminglemminglemminglemminglemminglemminglemminglemminglemminglemminglemminglemminglemminglemminglemminglemminglemminglemminglemminglemminglemminglemminglemminglemminglemminglemminglemminglemminglemminglemminglemminglemminglemminglemminglemminglemminglemminglemminglemminglemminglemminglemminglemminglemminglemminglemminglemminglemminglemminglemminglemminglemminglemminglemminglemminglemminglemminglemminglemminglemminglemminglemminglemminglemminglemminglemminglemminglemminglemminglemminglemminglemminglemminglemminglemminglemminglemminglemminglemminglemminglemminglemminglemminglemminglemminglemminglemminglemminglemminglemminglemminglemminglemminglemminglemminglemminglemminglemminglemminglemminglemminglemminglemminglemminglemminglemminglemminglemminglemminglemminglemminglemminglemminglemminglemminglemminglemminglemminglemminglemminglemminglemminglemminglemminglemminglemminglemminglemminglemminglemminglemminglemminglemminglemminglemminglemminglemminglemminglemminglemminglemminglemminglemminglemminglemminglemminglemminglemminglemminglemminglemminglemminglemminglemminglemminglemminglemminglemminglemminglemminglemminglemminglemminglemminglemminglemminglemminglemminglemminglemminglemminglemminglemminglemminglemminglemminglemminglemminglemminglemminglemminglemminglemminglemminglemminglemminglemminglemminglemminglemminglemminglemminglemminglemminglemminglemminglemminglemminglemminglemminglemminglemminglemminglemminglemminglemminglemminglemminglemminglemminglemminglemminglemminglemminglemminglemminglemminglemminglemminglemminglemminglemminglemminglemminglemminglemminglemminglemminglemminglemminglemminglemminglemminglemminglemminglemminglemminglemminglemminglemminglemminglemminglemminglemminglemminglemminglemminglemminglemming'"
      ]
     },
     "execution_count": 26,
     "metadata": {},
     "output_type": "execute_result"
    }
   ],
   "source": [
    "animal * 1000"
   ]
  },
  {
   "cell_type": "code",
   "execution_count": 27,
   "metadata": {},
   "outputs": [
    {
     "data": {
      "text/plain": [
       "5"
      ]
     },
     "execution_count": 27,
     "metadata": {},
     "output_type": "execute_result"
    }
   ],
   "source": [
    "# start building containers for data and methods can be applied to that data.\n",
    "\n",
    "# lists and tuples: can store multiple pieces of information\n",
    "# list: use [] to make a list, enter any number in the brackets\n",
    "# tuple: cannot be changed by users, uses less memory\n",
    "\n",
    "veggie_numbers = ['carrot','potato','broccoli', 5,20.25]\n",
    "len(veggie_numbers)\n"
   ]
  },
  {
   "cell_type": "code",
   "execution_count": 30,
   "metadata": {},
   "outputs": [
    {
     "data": {
      "text/plain": [
       "'carrot'"
      ]
     },
     "execution_count": 30,
     "metadata": {},
     "output_type": "execute_result"
    }
   ],
   "source": [
    "veggie_numbers[0]"
   ]
  },
  {
   "cell_type": "code",
   "execution_count": 31,
   "metadata": {},
   "outputs": [
    {
     "data": {
      "text/plain": [
       "['potato', 'broccoli', 5]"
      ]
     },
     "execution_count": 31,
     "metadata": {},
     "output_type": "execute_result"
    }
   ],
   "source": [
    "#slicing to get specific elements\n",
    "veggie_numbers[1:4]"
   ]
  },
  {
   "cell_type": "code",
   "execution_count": 32,
   "metadata": {},
   "outputs": [
    {
     "data": {
      "text/plain": [
       "['potato', 'broccoli', 5]"
      ]
     },
     "execution_count": 32,
     "metadata": {},
     "output_type": "execute_result"
    }
   ],
   "source": [
    "# counting from end of list backwards\n",
    "veggie_numbers[-4:-1]"
   ]
  },
  {
   "cell_type": "code",
   "execution_count": 34,
   "metadata": {},
   "outputs": [
    {
     "data": {
      "text/plain": [
       "['carrot', 'broccoli', 20.25]"
      ]
     },
     "execution_count": 34,
     "metadata": {},
     "output_type": "execute_result"
    }
   ],
   "source": [
    "#specify interval, take every second\n",
    "veggie_numbers[::2]"
   ]
  },
  {
   "cell_type": "code",
   "execution_count": 35,
   "metadata": {},
   "outputs": [
    {
     "data": {
      "text/plain": [
       "['__add__',\n",
       " '__class__',\n",
       " '__contains__',\n",
       " '__delattr__',\n",
       " '__delitem__',\n",
       " '__dir__',\n",
       " '__doc__',\n",
       " '__eq__',\n",
       " '__format__',\n",
       " '__ge__',\n",
       " '__getattribute__',\n",
       " '__getitem__',\n",
       " '__gt__',\n",
       " '__hash__',\n",
       " '__iadd__',\n",
       " '__imul__',\n",
       " '__init__',\n",
       " '__init_subclass__',\n",
       " '__iter__',\n",
       " '__le__',\n",
       " '__len__',\n",
       " '__lt__',\n",
       " '__mul__',\n",
       " '__ne__',\n",
       " '__new__',\n",
       " '__reduce__',\n",
       " '__reduce_ex__',\n",
       " '__repr__',\n",
       " '__reversed__',\n",
       " '__rmul__',\n",
       " '__setattr__',\n",
       " '__setitem__',\n",
       " '__sizeof__',\n",
       " '__str__',\n",
       " '__subclasshook__',\n",
       " 'append',\n",
       " 'clear',\n",
       " 'copy',\n",
       " 'count',\n",
       " 'extend',\n",
       " 'index',\n",
       " 'insert',\n",
       " 'pop',\n",
       " 'remove',\n",
       " 'reverse',\n",
       " 'sort']"
      ]
     },
     "execution_count": 35,
     "metadata": {},
     "output_type": "execute_result"
    }
   ],
   "source": [
    "dir(veggie_numbers)"
   ]
  },
  {
   "cell_type": "code",
   "execution_count": 38,
   "metadata": {},
   "outputs": [
    {
     "name": "stdout",
     "output_type": "stream",
     "text": [
      "['carrot', 'potato', 'broccoli', 5, 20.25, 'apple', 'apple']\n"
     ]
    }
   ],
   "source": [
    "fruit = 'apple'\n",
    "n = 1000\n",
    "veggie_numbers.append(fruit)\n",
    "print(veggie_numbers)"
   ]
  },
  {
   "cell_type": "code",
   "execution_count": 39,
   "metadata": {},
   "outputs": [
    {
     "name": "stdout",
     "output_type": "stream",
     "text": [
      "['carrot', 'potato', 'broccoli', 5, 20.25, 'apple', 'apple', 1000]\n"
     ]
    }
   ],
   "source": [
    "veggie_numbers.append(n)\n",
    "print(veggie_numbers)"
   ]
  },
  {
   "cell_type": "code",
   "execution_count": 41,
   "metadata": {},
   "outputs": [
    {
     "name": "stdout",
     "output_type": "stream",
     "text": [
      "['carrot', 'potato', 'broccoli', 5, 20.25, 'apple', 'apple', 1000, ['apple', 1000], ['apple', 1000]]\n"
     ]
    }
   ],
   "source": [
    "#but we want to append more than one at a time. make a list of all that needs to be appended\n",
    "\n",
    "veggie_numbers.append([fruit,n])\n",
    "print(veggie_numbers)"
   ]
  },
  {
   "cell_type": "code",
   "execution_count": 42,
   "metadata": {},
   "outputs": [
    {
     "name": "stdout",
     "output_type": "stream",
     "text": [
      "['carrot', 'potato', 'broccoli', 5, 20.25, 'apple', 1000]\n"
     ]
    }
   ],
   "source": [
    "# but now we have a list inside a list!\n",
    "# use extend() instead\n",
    "\n",
    "veggie_numbers = ['carrot','potato','broccoli', 5,20.25]\n",
    "veggie_numbers.extend([fruit,n])\n",
    "print(veggie_numbers)\n"
   ]
  },
  {
   "cell_type": "code",
   "execution_count": 47,
   "metadata": {},
   "outputs": [
    {
     "name": "stdout",
     "output_type": "stream",
     "text": [
      "['brusslesprouts', 'potato', 'broccoli', 5, 20.25, 'apple', 500]\n"
     ]
    }
   ],
   "source": [
    "# you can also simply reassign an element in a list directly\n",
    "\n",
    "veggie_numbers[6] = 500\n",
    "veggie_numbers[0] = 'brusslesprouts'\n",
    "print(veggie_numbers)"
   ]
  },
  {
   "cell_type": "code",
   "execution_count": 55,
   "metadata": {},
   "outputs": [
    {
     "name": "stdout",
     "output_type": "stream",
     "text": [
      "{'name': 'Alice', 'age': 34, 'residence': 'NYC', 'favorite_food': 'gnocchi', 'favorite_animal': 'shoebill', 'home_country': 'Switzerland'}\n"
     ]
    }
   ],
   "source": [
    "# DICTIONARIES\n",
    "# denoted by { }, each element within dictionary (sep by ,) is a key, value pair\n",
    "\n",
    "my_stats = {\n",
    "    'name': 'Alice',\n",
    "    'age': 34,\n",
    "    'residence':'NYC',\n",
    "    'favorite_food':'gnocchi',\n",
    "    'favorite_animal': 'shoebill',\n",
    "    'home_country':'Switzerland'\n",
    "}\n",
    "\n",
    "print(my_stats)\n"
   ]
  },
  {
   "cell_type": "code",
   "execution_count": 56,
   "metadata": {},
   "outputs": [
    {
     "data": {
      "text/plain": [
       "dict_keys(['name', 'age', 'residence', 'favorite_food', 'favorite_animal', 'home_country'])"
      ]
     },
     "execution_count": 56,
     "metadata": {},
     "output_type": "execute_result"
    }
   ],
   "source": [
    "my_stats.keys()"
   ]
  },
  {
   "cell_type": "code",
   "execution_count": 58,
   "metadata": {},
   "outputs": [
    {
     "data": {
      "text/plain": [
       "'gnocchi'"
      ]
     },
     "execution_count": 58,
     "metadata": {},
     "output_type": "execute_result"
    }
   ],
   "source": [
    "# the keys are unordered, so can't be indexed, need to use name of key\n",
    "my_stats['favorite_food']"
   ]
  },
  {
   "cell_type": "code",
   "execution_count": 60,
   "metadata": {},
   "outputs": [
    {
     "name": "stdout",
     "output_type": "stream",
     "text": [
      "{'name': 'Alice', 'age': 34, 'residence': 'London', 'favorite_food': 'gnocchi', 'favorite_animal': 'shoebill', 'home_country': 'Switzerland'}\n"
     ]
    }
   ],
   "source": [
    "# dictionaries are mutable, you can change any entry\n",
    "my_stats['residence'] = 'London'\n",
    "print(my_stats)"
   ]
  },
  {
   "cell_type": "code",
   "execution_count": 62,
   "metadata": {},
   "outputs": [
    {
     "name": "stdout",
     "output_type": "stream",
     "text": [
      "{'name': 'Alice', 'age': 34, 'residence': 'London', 'favorite_food': 'gnocchi', 'favorite_animal': 'shoebill', 'home_country': 'Switzerland', 'hair_color': 'brown'}\n"
     ]
    }
   ],
   "source": [
    "# add a key\n",
    "my_stats['hair_color'] = 'brown'\n",
    "print(my_stats)"
   ]
  },
  {
   "cell_type": "code",
   "execution_count": 63,
   "metadata": {},
   "outputs": [
    {
     "name": "stdout",
     "output_type": "stream",
     "text": [
      "{'name': 'Alice', 'age': 34, 'residence': 'London', 'favorite_food': 'gnocchi', 'favorite_animal': 'shoebill', 'home_country': 'Switzerland'}\n"
     ]
    }
   ],
   "source": [
    "# remove a key\n",
    "my_stats.pop('hair_color')\n",
    "print(my_stats)\n",
    "\n",
    "#remove the last key entered\n",
    "my_stats.popitem()"
   ]
  },
  {
   "cell_type": "code",
   "execution_count": 64,
   "metadata": {},
   "outputs": [],
   "source": [
    "# dicts can be nested\n",
    "#overall dict = experiments, dict2 = key, experiment"
   ]
  },
  {
   "cell_type": "code",
   "execution_count": 67,
   "metadata": {},
   "outputs": [
    {
     "name": "stdout",
     "output_type": "stream",
     "text": [
      "[1, 2, 3, 'a', 'b', 'c', 'c', 1, 2]\n"
     ]
    }
   ],
   "source": [
    "# SETS\n",
    "# set is like list BUT contain unordedered and unique values, bit like dict but no keys\n",
    "\n",
    "list1 = [1,2,3, 'a','b', 'c', 'c', 1,2]\n",
    "set(list1); # removes duplicates\n",
    "\n",
    "print(list1)\n"
   ]
  },
  {
   "cell_type": "code",
   "execution_count": 68,
   "metadata": {},
   "outputs": [
    {
     "name": "stdout",
     "output_type": "stream",
     "text": [
      "a is less than b\n"
     ]
    }
   ],
   "source": [
    "# PART II: programming concepts\n",
    "\n",
    "# conditional statements, if, else, elif (elseif)\n",
    "a=5\n",
    "b=22\n",
    "\n",
    "if a<b:\n",
    "    print('a is less than b')\n",
    "    "
   ]
  },
  {
   "cell_type": "code",
   "execution_count": 73,
   "metadata": {},
   "outputs": [
    {
     "name": "stdout",
     "output_type": "stream",
     "text": [
      "a is bigger than b\n"
     ]
    }
   ],
   "source": [
    "a=54\n",
    "b=22\n",
    "\n",
    "if a<b:\n",
    "    print('a is less than b')\n",
    "elif a == b:\n",
    "    print('a equals b')\n",
    "else:\n",
    "    print('a is bigger than b')\n",
    "    \n",
    "    \n",
    "# there was another example in the slides, check: and or"
   ]
  },
  {
   "cell_type": "code",
   "execution_count": 74,
   "metadata": {},
   "outputs": [
    {
     "ename": "IndentationError",
     "evalue": "expected an indented block (<ipython-input-74-dbb73d4525e6>, line 5)",
     "output_type": "error",
     "traceback": [
      "\u001b[1;36m  File \u001b[1;32m\"<ipython-input-74-dbb73d4525e6>\"\u001b[1;36m, line \u001b[1;32m5\u001b[0m\n\u001b[1;33m    if x not in y:\u001b[0m\n\u001b[1;37m     ^\u001b[0m\n\u001b[1;31mIndentationError\u001b[0m\u001b[1;31m:\u001b[0m expected an indented block\n"
     ]
    }
   ],
   "source": [
    "# other examples in slides, check\n",
    "\n",
    "if x in y:\n",
    "\n",
    "if x not in y:"
   ]
  },
  {
   "cell_type": "code",
   "execution_count": 77,
   "metadata": {},
   "outputs": [
    {
     "name": "stdout",
     "output_type": "stream",
     "text": [
      "[1, 2, 3, 4, 5, 6, 7, 8, 9, 10]\n"
     ]
    }
   ],
   "source": [
    "# LOOPS\n",
    "\n",
    "# iterate until condition met\n",
    "\n",
    "# for loops, while loops\n",
    "\n",
    "one_to_ten = [1,2,3,4,5,6,7,8,9,10]\n",
    "print(one_to_ten)"
   ]
  },
  {
   "cell_type": "code",
   "execution_count": 78,
   "metadata": {},
   "outputs": [
    {
     "name": "stdout",
     "output_type": "stream",
     "text": [
      "Number: 1\n",
      "Number: 2\n",
      "Number: 3\n",
      "Number: 4\n",
      "Number: 5\n",
      "Number: 6\n",
      "Number: 7\n",
      "Number: 8\n",
      "Number: 9\n",
      "Number: 10\n"
     ]
    }
   ],
   "source": [
    "# for i in sequence:\n",
    "#     task to peform\n",
    "\n",
    "for i in one_to_ten:\n",
    "    print('Number:', i)\n"
   ]
  },
  {
   "cell_type": "code",
   "execution_count": 82,
   "metadata": {},
   "outputs": [
    {
     "name": "stdout",
     "output_type": "stream",
     "text": [
      "1\n",
      "2\n",
      "3\n",
      "4\n",
      "we hit 5\n",
      "6\n",
      "7\n",
      "8\n",
      "9\n",
      "10\n"
     ]
    }
   ],
   "source": [
    "\n",
    "for i in one_to_ten:\n",
    "    if i != 5:\n",
    "        print(i)\n",
    "    elif i == 5:\n",
    "        print('we hit 5')\n",
    "   \n"
   ]
  },
  {
   "cell_type": "code",
   "execution_count": 86,
   "metadata": {},
   "outputs": [
    {
     "ename": "IndentationError",
     "evalue": "unexpected indent (<ipython-input-86-3ae453185327>, line 5)",
     "output_type": "error",
     "traceback": [
      "\u001b[1;36m  File \u001b[1;32m\"<ipython-input-86-3ae453185327>\"\u001b[1;36m, line \u001b[1;32m5\u001b[0m\n\u001b[1;33m    print(i)\u001b[0m\n\u001b[1;37m    ^\u001b[0m\n\u001b[1;31mIndentationError\u001b[0m\u001b[1;31m:\u001b[0m unexpected indent\n"
     ]
    }
   ],
   "source": [
    "# write a loop that takes each element and turns it into element + 2*element\n",
    "\n",
    "for i in one_to_ten:\n",
    "    one_to_ten[i]= one_to_ten[i]+ (2*one_to_ten[i])\n",
    "    \n",
    "# problem, i is not really the index in the list! --> enumerate\n"
   ]
  },
  {
   "cell_type": "code",
   "execution_count": 87,
   "metadata": {},
   "outputs": [
    {
     "name": "stdout",
     "output_type": "stream",
     "text": [
      "(0, 1)\n",
      "(1, 6)\n",
      "(2, 3)\n",
      "(3, 12)\n",
      "(4, 5)\n",
      "(5, 6)\n",
      "(6, 21)\n",
      "(7, 8)\n",
      "(8, 9)\n",
      "(9, 10)\n"
     ]
    }
   ],
   "source": [
    "# enumerate is a function to pull out the index number and elements value\n",
    "\n",
    "for i in enumerate(one_to_ten):\n",
    "    print(i)\n",
    "    \n",
    "    # the output here are tuples"
   ]
  },
  {
   "cell_type": "code",
   "execution_count": 90,
   "metadata": {},
   "outputs": [
    {
     "name": "stdout",
     "output_type": "stream",
     "text": [
      "[3, 6, 9, 12, 15, 18, 21, 24, 27, 30]\n"
     ]
    }
   ],
   "source": [
    "one_to_ten = [1,2,3,4,5,6,7,8,9,10]\n",
    "\n",
    "for idx, i in enumerate(one_to_ten):\n",
    "    one_to_ten[idx] = i + (2*i)\n",
    "print(one_to_ten)"
   ]
  },
  {
   "cell_type": "code",
   "execution_count": 95,
   "metadata": {},
   "outputs": [],
   "source": [
    "# parallel iteration using zip()\n",
    "\n",
    "mouse_number = [1,2,3,4,5]\n",
    "temperament = ['nice','mean','mean','nice','nice']\n"
   ]
  },
  {
   "cell_type": "code",
   "execution_count": 96,
   "metadata": {},
   "outputs": [
    {
     "name": "stdout",
     "output_type": "stream",
     "text": [
      "(1, 'nice')\n",
      "(2, 'mean')\n",
      "(3, 'mean')\n",
      "(4, 'nice')\n",
      "(5, 'nice')\n"
     ]
    }
   ],
   "source": [
    "for i in zip(mouse_number, temperament):\n",
    "    print(i)"
   ]
  },
  {
   "cell_type": "code",
   "execution_count": 97,
   "metadata": {},
   "outputs": [
    {
     "name": "stdout",
     "output_type": "stream",
     "text": [
      "Mouse number 1 is a nice mouse\n",
      "Mouse number 2 is a mean mouse\n",
      "Mouse number 3 is a mean mouse\n",
      "Mouse number 4 is a nice mouse\n",
      "Mouse number 5 is a nice mouse\n"
     ]
    }
   ],
   "source": [
    "# for loop that returns mouse number is blabla\n",
    "\n",
    "for num,temp in zip(mouse_number, temperament):\n",
    "    print('Mouse number {} is a {} mouse'.format(num,temp))\n"
   ]
  },
  {
   "cell_type": "code",
   "execution_count": 100,
   "metadata": {},
   "outputs": [
    {
     "name": "stdout",
     "output_type": "stream",
     "text": [
      "[3, 6, 9, 12, 15, 18, 21, 24, 27, 30]\n"
     ]
    }
   ],
   "source": [
    "# list comprehensions: it's cool, but not so easy to grasp\n",
    "# takes logic of a for loop and puts into a list to condense to single line\n",
    "# faster more concise\n",
    "\n",
    "one_to_ten = [1,2,3,4,5,6,7,8,9,10]\n",
    "one_to_ten = [i + (2*i) for i in one_to_ten]\n",
    "\n",
    "print(one_to_ten)\n",
    "\n",
    "# every element, for each time i appears in on_to_ten"
   ]
  },
  {
   "cell_type": "code",
   "execution_count": 101,
   "metadata": {},
   "outputs": [
    {
     "name": "stdout",
     "output_type": "stream",
     "text": [
      "At timepoint 1, Sheila took 6 steps\n",
      "At timepoint 2, Sheila took 12 steps\n",
      "At timepoint 3, Sheila took 24 steps\n",
      "At timepoint 4, Sheila took 48 steps\n",
      "At timepoint 5, Sheila took 96 steps\n",
      "At timepoint 6, Sheila took 192 steps\n",
      "At timepoint 7, Sheila took 384 steps\n",
      "At timepoint 8, Sheila took 768 steps\n",
      "At timepoint 9, Sheila took 1536 steps\n",
      "At timepoint 10, Sheila took 3072 steps\n",
      "At timepoint 11, Sheila took 6144 steps\n"
     ]
    }
   ],
   "source": [
    "# WHILE LOOP\n",
    "t = 0\n",
    "dt = 1\n",
    "step = 3\n",
    "\n",
    "while t <= 10:\n",
    "    step = step + step\n",
    "    t = t + dt\n",
    "    print('At timepoint {}, Sheila took {} steps'.format(t,step))\n",
    "\n"
   ]
  },
  {
   "cell_type": "code",
   "execution_count": 102,
   "metadata": {},
   "outputs": [],
   "source": [
    "# PART III: writing functions\n",
    "# a tool that will take an input and return an output\n",
    "\n",
    "def myFunction(input1,input2): #inputs are just variables\n",
    "    \"\"\"prints its inputs\"\"\" # this is the docstring that explains what the fct does\n",
    "    print(input1)\n",
    "    print(input2)\n"
   ]
  },
  {
   "cell_type": "code",
   "execution_count": 106,
   "metadata": {},
   "outputs": [],
   "source": [
    "# make my own function\n",
    "\n",
    "def myname(input1):\n",
    "    print(input1 + \" is my name\")    # no need for an 'end'\n"
   ]
  },
  {
   "cell_type": "code",
   "execution_count": 107,
   "metadata": {},
   "outputs": [
    {
     "name": "stdout",
     "output_type": "stream",
     "text": [
      "Alice is my name\n"
     ]
    }
   ],
   "source": [
    "myname('Alice')"
   ]
  },
  {
   "cell_type": "code",
   "execution_count": 108,
   "metadata": {},
   "outputs": [],
   "source": [
    "# what if we want the fct to evaluate and return a value\n",
    "# return statement\n",
    "\n",
    "def Cel2Fahr(degC):\n",
    "    degF = (degC * 9/5) + 32\n",
    "    return(degF)\n"
   ]
  },
  {
   "cell_type": "code",
   "execution_count": 110,
   "metadata": {},
   "outputs": [
    {
     "data": {
      "text/plain": [
       "68.0"
      ]
     },
     "execution_count": 110,
     "metadata": {},
     "output_type": "execute_result"
    }
   ],
   "source": [
    "Cel2Fahr(20)"
   ]
  },
  {
   "cell_type": "code",
   "execution_count": 112,
   "metadata": {},
   "outputs": [
    {
     "name": "stdout",
     "output_type": "stream",
     "text": [
      "77.0\n"
     ]
    }
   ],
   "source": [
    "F = Cel2Fahr(25)\n",
    "print(F)"
   ]
  },
  {
   "cell_type": "code",
   "execution_count": 1,
   "metadata": {},
   "outputs": [],
   "source": [
    "# remember how to import a package from Class 0, like numpy\n",
    "# numpy is a folder of a bunch of functions, or a class\n",
    "\n",
    "# let's assume we want to turn our function into a python package\n",
    "# open Atom, make a new file, save it as \"\".py\" in same folder as the jupyter notebook\n",
    "# then copy the fct into atom file and save\n",
    "# then restart kernel\n",
    "# then you can import the package from the jupyter notebook\n",
    "\n",
    "# note: importing just looks for py files in libraries directories\n",
    "\n",
    "# we will learn to put functions onto Git, and importing from the online repository!\n"
   ]
  },
  {
   "cell_type": "code",
   "execution_count": 2,
   "metadata": {},
   "outputs": [],
   "source": [
    "import week1 as w1"
   ]
  },
  {
   "cell_type": "code",
   "execution_count": 4,
   "metadata": {},
   "outputs": [
    {
     "name": "stdout",
     "output_type": "stream",
     "text": [
      "86.0\n"
     ]
    }
   ],
   "source": [
    "f = w1.Cel2Fahr(30)\n",
    "print(f)"
   ]
  },
  {
   "cell_type": "code",
   "execution_count": null,
   "metadata": {},
   "outputs": [],
   "source": []
  }
 ],
 "metadata": {
  "kernelspec": {
   "display_name": "Python 3",
   "language": "python",
   "name": "python3"
  },
  "language_info": {
   "codemirror_mode": {
    "name": "ipython",
    "version": 3
   },
   "file_extension": ".py",
   "mimetype": "text/x-python",
   "name": "python",
   "nbconvert_exporter": "python",
   "pygments_lexer": "ipython3",
   "version": "3.7.7"
  }
 },
 "nbformat": 4,
 "nbformat_minor": 4
}
