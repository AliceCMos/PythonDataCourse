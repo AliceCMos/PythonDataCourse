{
 "cells": [
  {
   "cell_type": "code",
   "execution_count": 1,
   "metadata": {},
   "outputs": [
    {
     "name": "stdout",
     "output_type": "stream",
     "text": [
      "[1, 3, 5, 7, 9, 11, 13, 15]\n",
      "[2, 4, 6, 8, 10, 12, 14, 16]\n"
     ]
    }
   ],
   "source": [
    "# 1. a)\n",
    "import numpy as np\n",
    "\n",
    "a=[1,3,5,7,9,11,13,15]\n",
    "b=[2,4,6,8,10,12,14,16]\n",
    "\n",
    "print(a)\n",
    "print(b)"
   ]
  },
  {
   "cell_type": "code",
   "execution_count": 4,
   "metadata": {},
   "outputs": [
    {
     "name": "stdout",
     "output_type": "stream",
     "text": [
      "[1, 3, 5, 7, 9, 11, 13, 15, 2, 4, 6, 8, 10, 12, 14, 16]\n"
     ]
    }
   ],
   "source": [
    "# c.append() gives a nested list, there is also c.extend\n",
    "c=a+b # this one is good according to jakob\n",
    "#c=np.append(a,b)\n",
    "print(c)"
   ]
  },
  {
   "cell_type": "code",
   "execution_count": 5,
   "metadata": {},
   "outputs": [
    {
     "name": "stdout",
     "output_type": "stream",
     "text": [
      "[1, 2, 3, 4, 5, 6, 7, 8, 9, 10, 11, 12, 13, 14, 15, 16]\n"
     ]
    }
   ],
   "source": [
    "#b)\n",
    "\n",
    "l = len(c)\n",
    "d=[None]*l\n",
    "\n",
    "d[::2]=a\n",
    "d[1::2]=b\n",
    "\n",
    "#d=np.sort(c)\n",
    "print(d)"
   ]
  },
  {
   "cell_type": "code",
   "execution_count": 6,
   "metadata": {},
   "outputs": [
    {
     "name": "stdout",
     "output_type": "stream",
     "text": [
      "[1, 2, 3, 4, 5, 6, 7, 8, 9, 10, 11, 12, 13, 14, 15, 16]\n",
      "[1, 2, 3, 4, 5, 6, 7, 8, 9, 10, 11, 12, 13, 14, 15, 16]\n"
     ]
    }
   ],
   "source": [
    "#c)\n",
    "\n",
    "e=[None]*l\n",
    "\n",
    "for idx, i in enumerate(a):\n",
    "    e[i-1]=a[idx]\n",
    "    e[i]=b[idx]\n",
    "\n",
    "print(e)\n",
    "\n",
    "# from class\n",
    "\n",
    "d = []\n",
    "for aa, bb in zip(a,b):\n",
    "    d.append(aa)\n",
    "    d.append(bb)\n",
    "    \n",
    "print(d)\n",
    "    "
   ]
  },
  {
   "cell_type": "code",
   "execution_count": 7,
   "metadata": {},
   "outputs": [
    {
     "name": "stdout",
     "output_type": "stream",
     "text": [
      "[[1, 2], [3, 4], [5, 6], [7, 8], [9, 10], [11, 12], [13, 14], [15, 16]]\n"
     ]
    }
   ],
   "source": [
    "#d)\n",
    "\n",
    "#e[::2]=[i for i in a]\n",
    "\n",
    "e=[c[i::8] for i in range(8)]\n",
    "\n",
    "print(e)"
   ]
  },
  {
   "cell_type": "code",
   "execution_count": 8,
   "metadata": {},
   "outputs": [
    {
     "name": "stdout",
     "output_type": "stream",
     "text": [
      "[1, 2, 3, 4, 5, 6, 7, 8, 9, 10, 11, 12, 13, 14, 15, 16]\n"
     ]
    }
   ],
   "source": [
    "# this is how you want to do it as a list comprehension\n",
    "\n",
    "e = [j for i in zip(a,b) for j in i]\n",
    "print(e)"
   ]
  },
  {
   "cell_type": "code",
   "execution_count": 9,
   "metadata": {},
   "outputs": [
    {
     "name": "stdout",
     "output_type": "stream",
     "text": [
      "(1, 2)\n",
      "(3, 4)\n",
      "(5, 6)\n",
      "(7, 8)\n",
      "(9, 10)\n",
      "(11, 12)\n",
      "(13, 14)\n",
      "(15, 16)\n"
     ]
    }
   ],
   "source": [
    "# take a closer look, this is what the comprehension does\n",
    "\n",
    "for i in zip(a,b):\n",
    "    print(i)\n"
   ]
  },
  {
   "cell_type": "code",
   "execution_count": 11,
   "metadata": {},
   "outputs": [
    {
     "name": "stdout",
     "output_type": "stream",
     "text": [
      "[1, 2, 3, 4, 5, 6, 7, 8, 9, 10, 11, 12, 13, 14, 15, 16]\n"
     ]
    }
   ],
   "source": [
    "# then this\n",
    "e =[]\n",
    "for i in zip(a,b):\n",
    "    for j in i:\n",
    "        e.append(j)\n",
    "print(e)"
   ]
  },
  {
   "cell_type": "code",
   "execution_count": 8,
   "metadata": {},
   "outputs": [
    {
     "name": "stdout",
     "output_type": "stream",
     "text": [
      "[1, 2, 3, 4, 5, 6, 7, 8, 9, 10, 11, 12, 13, 14, 15, 16]\n"
     ]
    }
   ],
   "source": [
    "#e)\n",
    "\n",
    "f=[None]*l\n",
    "\n",
    "indx = 0\n",
    "\n",
    "while indx <= len(f)-1:\n",
    "    f[indx] = indx+1\n",
    "    indx = indx+1\n",
    "    \n",
    "print(f)"
   ]
  },
  {
   "cell_type": "code",
   "execution_count": 12,
   "metadata": {},
   "outputs": [
    {
     "data": {
      "text/plain": [
       "[1, 2, 3, 4, 5, 6, 7, 8, 9, 10, 11, 12, 13, 14, 15, 16]"
      ]
     },
     "execution_count": 12,
     "metadata": {},
     "output_type": "execute_result"
    }
   ],
   "source": [
    "# better solution\n",
    "\n",
    "i=0\n",
    "f=[]\n",
    "\n",
    "while i < len(a):\n",
    "    f.append(a[i])\n",
    "    f.append(b[i])\n",
    "    \n",
    "    i+= 1 # instead of i = i+1, can write i+=1\n",
    "    \n",
    "print(f)"
   ]
  },
  {
   "cell_type": "code",
   "execution_count": 21,
   "metadata": {},
   "outputs": [
    {
     "name": "stdout",
     "output_type": "stream",
     "text": [
      "{'duck': '1207seeli', 'donkey': '3259ia', 'pangolin': 'hippo65', 'lama': 'bipupap97', 'pigeon': 'raven123'}\n"
     ]
    },
    {
     "data": {
      "text/plain": [
       "'raven123'"
      ]
     },
     "execution_count": 21,
     "metadata": {},
     "output_type": "execute_result"
    }
   ],
   "source": [
    "#2.\n",
    "\n",
    "login = {\n",
    "    'duck':'1207seeli',\n",
    "    'donkey':'3259ia',\n",
    "    'pangolin':'hippo65',\n",
    "    'lama':'bipupap97',\n",
    "    'pigeon':'raven123'\n",
    "}\n",
    "\n",
    "print(login)\n",
    "login.keys()\n",
    "login['pigeon']\n"
   ]
  },
  {
   "cell_type": "code",
   "execution_count": 16,
   "metadata": {},
   "outputs": [],
   "source": [
    "#a) b) c) d)\n",
    "\n",
    "def passwordEval(username,password):\n",
    "    \"\"\"takes username and password as inputs, evaluates the pair and\n",
    "    tells you if it is a correct combination from the login dict.\"\"\"\n",
    "    # assert password.islower(), 'password must be lower case'\n",
    "    \n",
    "    username = username.lower()\n",
    "    password = password.lower()\n",
    "    \n",
    "    if username in login.keys():\n",
    "        if login[username] == password:\n",
    "            print(\"Username and password accepted!\")\n",
    "        else:\n",
    "            print(\"Username/password not found!\")\n",
    "            \n",
    "    elif username not in login.keys():\n",
    "        print(\"Username/password not found!\")\n",
    "\n",
    "        "
   ]
  },
  {
   "cell_type": "code",
   "execution_count": 12,
   "metadata": {},
   "outputs": [
    {
     "name": "stdout",
     "output_type": "stream",
     "text": [
      "Username and apssword accepted!\n"
     ]
    }
   ],
   "source": [
    "passwordEval('duck','1207seeli')"
   ]
  },
  {
   "cell_type": "code",
   "execution_count": 13,
   "metadata": {},
   "outputs": [
    {
     "name": "stdout",
     "output_type": "stream",
     "text": [
      "Username/password not found!\n"
     ]
    }
   ],
   "source": [
    "passwordEval('elefant','3259ia')"
   ]
  },
  {
   "cell_type": "code",
   "execution_count": 14,
   "metadata": {},
   "outputs": [
    {
     "name": "stdout",
     "output_type": "stream",
     "text": [
      "Username/password not found!\n"
     ]
    }
   ],
   "source": [
    "passwordEval('donkey','raven123')"
   ]
  },
  {
   "cell_type": "code",
   "execution_count": 15,
   "metadata": {},
   "outputs": [
    {
     "name": "stdout",
     "output_type": "stream",
     "text": [
      "Username and apssword accepted!\n"
     ]
    }
   ],
   "source": [
    "passwordEval('Duck','1207seeli')"
   ]
  },
  {
   "cell_type": "code",
   "execution_count": 17,
   "metadata": {},
   "outputs": [],
   "source": [
    "import week1 as w1"
   ]
  },
  {
   "cell_type": "code",
   "execution_count": 18,
   "metadata": {},
   "outputs": [
    {
     "name": "stdout",
     "output_type": "stream",
     "text": [
      "Username and password accepted!\n"
     ]
    }
   ],
   "source": [
    "w1.passwordEval('pangolin','hippo65',login)"
   ]
  },
  {
   "cell_type": "code",
   "execution_count": 24,
   "metadata": {},
   "outputs": [
    {
     "name": "stdout",
     "output_type": "stream",
     "text": [
      "{'duck': '1207seeli', 'donkey': '3259ia', 'pangolin': 'hippo65', 'lama': 'bipupap97', 'pigeon': 'raven123', 'squirrel': '654nuts', 'quokka': 'rottnest12', 'racoon': 'trashpanda000', 'rat': 'nimh1999'}\n"
     ]
    }
   ],
   "source": [
    "# e) Instead of login2= login, make a copy! otherwise no new list\n",
    "\n",
    "from copy import copy\n",
    "\n",
    "login2 = copy(login)\n",
    "\n",
    "login2['squirrel'] = '654nuts'\n",
    "login2['quokka'] = 'rottnest12' \n",
    "login2['racoon'] = 'trashpanda000'\n",
    "login2['rat'] = 'nimh1999'\n",
    "\n",
    "print(login2)\n"
   ]
  },
  {
   "cell_type": "code",
   "execution_count": 12,
   "metadata": {},
   "outputs": [
    {
     "name": "stdout",
     "output_type": "stream",
     "text": [
      "Username and password accepted!\n",
      "Username and password accepted!\n",
      "Username and password accepted!\n",
      "Username and password accepted!\n",
      "Username and password accepted!\n",
      "Username and password accepted!\n",
      "Username and password accepted!\n",
      "Username and password accepted!\n",
      "Username and password accepted!\n"
     ]
    }
   ],
   "source": [
    "\n",
    "#w1.passwordEval('pangolin','hippo65',login2)\n",
    "\n",
    "for username in login2:\n",
    "    w1.passwordEval(username,login2[username],login2)\n",
    "\n"
   ]
  },
  {
   "cell_type": "code",
   "execution_count": null,
   "metadata": {},
   "outputs": [],
   "source": []
  }
 ],
 "metadata": {
  "kernelspec": {
   "display_name": "Python 3",
   "language": "python",
   "name": "python3"
  },
  "language_info": {
   "codemirror_mode": {
    "name": "ipython",
    "version": 3
   },
   "file_extension": ".py",
   "mimetype": "text/x-python",
   "name": "python",
   "nbconvert_exporter": "python",
   "pygments_lexer": "ipython3",
   "version": "3.7.7"
  }
 },
 "nbformat": 4,
 "nbformat_minor": 4
}
