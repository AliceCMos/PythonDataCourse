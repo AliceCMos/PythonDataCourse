{
 "cells": [
  {
   "cell_type": "markdown",
   "metadata": {},
   "source": [
    "# HW4 Part 1 - Review of Python Classes\n",
    "\n",
    "April 21, 2020\n",
    "\n",
    "The following is meant to be a brief review of classes in Python. If you feel comfortable with building and manipulating classes in Python, feel free to skim this part"
   ]
  },
  {
   "cell_type": "code",
   "execution_count": 1,
   "metadata": {},
   "outputs": [],
   "source": [
    "import numpy as np\n",
    "import matplotlib.pyplot as plt\n",
    "import pandas as pd\n",
    "import random"
   ]
  },
  {
   "cell_type": "markdown",
   "metadata": {},
   "source": [
    "## 1a) Create a class \"`Dog`\" with an `__init__` function that takes in the variable `name`"
   ]
  },
  {
   "cell_type": "code",
   "execution_count": 2,
   "metadata": {},
   "outputs": [],
   "source": [
    "class Dog():\n",
    "\n",
    "    def __init__(self, name):\n",
    "        self.name = name\n",
    "        # assign 'name' to self here as a data attribute"
   ]
  },
  {
   "cell_type": "code",
   "execution_count": 3,
   "metadata": {},
   "outputs": [],
   "source": [
    "mydog = Dog('Jojo')"
   ]
  },
  {
   "cell_type": "code",
   "execution_count": 4,
   "metadata": {},
   "outputs": [
    {
     "data": {
      "text/plain": [
       "'Jojo'"
      ]
     },
     "execution_count": 4,
     "metadata": {},
     "output_type": "execute_result"
    }
   ],
   "source": [
    "mydog.name"
   ]
  },
  {
   "cell_type": "markdown",
   "metadata": {},
   "source": [
    "# 1b) Add a method to this class `add_trick` that takes in a variable `trick`\n",
    "Keep in mind that a Dog might learn many tricks - you might keep track of the tricks it learns in a list"
   ]
  },
  {
   "cell_type": "code",
   "execution_count": 5,
   "metadata": {},
   "outputs": [],
   "source": [
    "class Dog:\n",
    "\n",
    "    def __init__(self, name): \n",
    "        self.name = name\n",
    "        self.trick = [] # you need to initialize it here to make it special for each object.\n",
    "        # your code here\n",
    "        \n",
    "    def add_trick(self, trick): # this is a method attribute\n",
    "        self.trick.append(trick)\n",
    "        # your code here"
   ]
  },
  {
   "cell_type": "code",
   "execution_count": 6,
   "metadata": {},
   "outputs": [
    {
     "data": {
      "text/plain": [
       "['roll over', 'play dead', 'flippy flip']"
      ]
     },
     "execution_count": 6,
     "metadata": {},
     "output_type": "execute_result"
    }
   ],
   "source": [
    "# test your code\n",
    "mydog = Dog('Jojo')\n",
    "mydog.add_trick('roll over')\n",
    "mydog.add_trick('play dead')\n",
    "mydog.add_trick('flippy flip')\n",
    "\n",
    "# print the tricks here\n",
    "mydog.trick### complete here"
   ]
  },
  {
   "cell_type": "markdown",
   "metadata": {},
   "source": [
    "# 1c) Modify the class so that it keeps track of the dog's age, gender and species\n",
    "Would these be better as a data attributes or as a method attributes? Instance attributes usually take precedence over class attribute."
   ]
  },
  {
   "cell_type": "code",
   "execution_count": 13,
   "metadata": {},
   "outputs": [],
   "source": [
    "# your code here\n",
    "class Dog:\n",
    "\n",
    "    def __init__(self, name, age, gender, species): \n",
    "        # example of checking types for arguments passed\n",
    "        assert isinstance(name,str), 'name is not string'\n",
    "        assert isinstance(age,(int,float))\n",
    "        assert gender in ('male','female')\n",
    "        self.name = name\n",
    "        self.age = age\n",
    "        self.gender = gender\n",
    "        self.species = species\n",
    "        self.trick = [] # you need to initialize it here to make it special for each object.\n",
    "        # your code here\n",
    "        \n",
    "    def add_trick(self, trick): # this is a method attribute\n",
    "        self.trick.append(trick)\n",
    "        # your code here\n"
   ]
  },
  {
   "cell_type": "markdown",
   "metadata": {},
   "source": [
    "## 1d) Create 3 dogs with various characteristics, and assign them different tricks"
   ]
  },
  {
   "cell_type": "code",
   "execution_count": null,
   "metadata": {},
   "outputs": [],
   "source": []
  },
  {
   "cell_type": "code",
   "execution_count": 18,
   "metadata": {},
   "outputs": [],
   "source": [
    "# your code here\n",
    "first_dog = Dog(name='erol', age=4 ,gender='male', species='pyrenia')\n",
    "first_dog.add_trick('roll over')\n",
    "first_dog.add_trick('play dead')\n",
    "first_dog.add_trick('flippy flip')\n",
    "\n",
    "second_dog = Dog(name='lulu', age=2 ,gender='female', species='collie')\n",
    "second_dog.add_trick('give paw')\n",
    "second_dog.add_trick('bring toy')\n",
    "second_dog.add_trick('fetch')\n",
    "\n",
    "third_dog = Dog(name='bubu', age=6 ,gender='female', species='corgy')\n",
    "third_dog.add_trick('sit')\n",
    "third_dog.add_trick('jump')\n",
    "third_dog.add_trick('bark')"
   ]
  },
  {
   "cell_type": "markdown",
   "metadata": {},
   "source": [
    "## 1e) Create a method/function `print_summary` for the Dog class that prints all the relevant data and tricks"
   ]
  },
  {
   "cell_type": "code",
   "execution_count": 16,
   "metadata": {},
   "outputs": [],
   "source": [
    "# your code here\n",
    "class Dog:\n",
    "\n",
    "    def __init__(self, name, age, gender, species): \n",
    "        self.name = name\n",
    "        self.age = age\n",
    "        self.gender = gender\n",
    "        self.species = species\n",
    "        self.trick = [] # you need to initialize it here to make it special for each object.\n",
    "        # your code here\n",
    "        \n",
    "    def add_trick(self, trick): # this is a method attribute\n",
    "        self.trick.append(trick)\n",
    "        # your code here\n",
    "    \n",
    "    def update_age(self,age):\n",
    "        self.age = age\n",
    "        \n",
    "    def print_summary(self):\n",
    "        print('name: {}, age: {}, gender: {}, species: {} \\n tricks: {}' .format(self.name, self.age, self.gender, self.species, self.trick))\n",
    "        "
   ]
  },
  {
   "cell_type": "code",
   "execution_count": 19,
   "metadata": {},
   "outputs": [
    {
     "name": "stdout",
     "output_type": "stream",
     "text": [
      "name: erol, age: 4, gender: male, species: pyrenia \n",
      " tricks: ['roll over', 'play dead', 'flippy flip']\n"
     ]
    }
   ],
   "source": [
    "first_dog.print_summary()"
   ]
  },
  {
   "cell_type": "code",
   "execution_count": 20,
   "metadata": {},
   "outputs": [
    {
     "name": "stdout",
     "output_type": "stream",
     "text": [
      "['fetch', 'flippy flip', 'jump']\n"
     ]
    }
   ],
   "source": [
    "all_tricks = ['roll over','play dead','flippy flip','give paw','bring toy','fetch','sit','jump','bark']\n",
    "num_tricks = len(all_tricks)\n",
    "pick_tricks = 3\n",
    "\n",
    "Tricks = random.sample(all_tricks,pick_tricks)\n",
    "print(Tricks)"
   ]
  },
  {
   "cell_type": "code",
   "execution_count": 89,
   "metadata": {},
   "outputs": [
    {
     "name": "stdout",
     "output_type": "stream",
     "text": [
      "name: erol, age: 4, gender: male, species: pyrenia \n",
      " tricks: [['bark', 'flippy flip', 'sit']]\n",
      "name: lulu, age: 2, gender: female, species: collie \n",
      " tricks: [['fetch', 'jump', 'bring toy']]\n",
      "name: bubu, age: 6, gender: female, species: corgy \n",
      " tricks: [['flippy flip', 'bring toy', 'jump']]\n"
     ]
    },
    {
     "data": {
      "text/html": [
       "<div>\n",
       "<style scoped>\n",
       "    .dataframe tbody tr th:only-of-type {\n",
       "        vertical-align: middle;\n",
       "    }\n",
       "\n",
       "    .dataframe tbody tr th {\n",
       "        vertical-align: top;\n",
       "    }\n",
       "\n",
       "    .dataframe thead th {\n",
       "        text-align: right;\n",
       "    }\n",
       "</style>\n",
       "<table border=\"1\" class=\"dataframe\">\n",
       "  <thead>\n",
       "    <tr style=\"text-align: right;\">\n",
       "      <th></th>\n",
       "      <th>name</th>\n",
       "      <th>age</th>\n",
       "      <th>gender</th>\n",
       "      <th>species</th>\n",
       "      <th>tricks</th>\n",
       "    </tr>\n",
       "  </thead>\n",
       "  <tbody>\n",
       "    <tr>\n",
       "      <th>0</th>\n",
       "      <td>erol</td>\n",
       "      <td>4</td>\n",
       "      <td>male</td>\n",
       "      <td>pyrenia</td>\n",
       "      <td>[bark, flippy flip, sit]</td>\n",
       "    </tr>\n",
       "    <tr>\n",
       "      <th>0</th>\n",
       "      <td>lulu</td>\n",
       "      <td>2</td>\n",
       "      <td>female</td>\n",
       "      <td>collie</td>\n",
       "      <td>[fetch, jump, bring toy]</td>\n",
       "    </tr>\n",
       "    <tr>\n",
       "      <th>0</th>\n",
       "      <td>bubu</td>\n",
       "      <td>6</td>\n",
       "      <td>female</td>\n",
       "      <td>corgy</td>\n",
       "      <td>[flippy flip, bring toy, jump]</td>\n",
       "    </tr>\n",
       "  </tbody>\n",
       "</table>\n",
       "</div>"
      ],
      "text/plain": [
       "   name  age  gender  species                          tricks\n",
       "0  erol    4    male  pyrenia        [bark, flippy flip, sit]\n",
       "0  lulu    2  female   collie        [fetch, jump, bring toy]\n",
       "0  bubu    6  female    corgy  [flippy flip, bring toy, jump]"
      ]
     },
     "execution_count": 89,
     "metadata": {},
     "output_type": "execute_result"
    }
   ],
   "source": [
    "# create 3 dogs again with your new/modified class and \n",
    "\n",
    "dogs = []\n",
    "dogs.append(Dog(name='erol', age=4,gender='male', species='pyrenia'))\n",
    "dogs.append(Dog(name='lulu', age=2,gender='female', species='collie'))\n",
    "dogs.append(Dog(name='bubu', age=6,gender='female', species='corgy'))\n",
    "\n",
    "all_tricks = ['roll over','play dead','flippy flip','give paw','bring toy','fetch','sit','jump','bark']\n",
    "pick_tricks = 3\n",
    "\n",
    "for d in dogs:\n",
    "    d.add_trick(random.sample(all_tricks, pick_tricks))\n",
    "\n",
    "for d in dogs:\n",
    "    d.print_summary()\n",
    "    \n",
    "df_all=pd.DataFrame()\n",
    "\n",
    "for d in dogs:\n",
    "    df = d.return_df()\n",
    "    df_all = df_all.append(df)\n",
    "df_all.head()"
   ]
  },
  {
   "cell_type": "markdown",
   "metadata": {},
   "source": [
    "## 1f) Finally, create a function/method that returns a pandas dataframe of the dog's name, age, gender species and tricks"
   ]
  },
  {
   "cell_type": "markdown",
   "metadata": {},
   "source": [
    "This code should run. What do you notice about having multiple tricks?"
   ]
  },
  {
   "cell_type": "code",
   "execution_count": 82,
   "metadata": {},
   "outputs": [],
   "source": [
    "class Dog:\n",
    "\n",
    "    def __init__(self, name, age, gender, species): \n",
    "        self.name = name\n",
    "        self.age = age\n",
    "        self.gender = gender\n",
    "        self.species = species\n",
    "        self.trick = [] # you need to initialize it here to make it special for each object.\n",
    "        # your code here\n",
    "        \n",
    "    def add_trick(self, trick): # this is a method attribute\n",
    "        self.trick.append(trick)\n",
    "        # your code here\n",
    "        \n",
    "    def print_summary(self):\n",
    "        print('name: {}, age: {}, gender: {}, species: {} \\n tricks: {}' .format(self.name, self.age, self.gender, self.species, self.trick))\n",
    "        \n",
    "        \n",
    "    def return_df(self):\n",
    "        dog_dict = {\n",
    "            'name': self.name,\n",
    "            'age': self.age,\n",
    "            'gender': self.gender,\n",
    "            'species': self.species,\n",
    "            'tricks': self.trick\n",
    "        }\n",
    "        df = pd.DataFrame(dog_dict)\n",
    "        return(df)\n",
    "        \n",
    "        "
   ]
  },
  {
   "cell_type": "code",
   "execution_count": 78,
   "metadata": {},
   "outputs": [
    {
     "name": "stdout",
     "output_type": "stream",
     "text": [
      "name: Jojo, age: 12, gender: M, species: collie \n",
      " tricks: ['roll over', 'flippy flip']\n"
     ]
    },
    {
     "data": {
      "text/html": [
       "<div>\n",
       "<style scoped>\n",
       "    .dataframe tbody tr th:only-of-type {\n",
       "        vertical-align: middle;\n",
       "    }\n",
       "\n",
       "    .dataframe tbody tr th {\n",
       "        vertical-align: top;\n",
       "    }\n",
       "\n",
       "    .dataframe thead th {\n",
       "        text-align: right;\n",
       "    }\n",
       "</style>\n",
       "<table border=\"1\" class=\"dataframe\">\n",
       "  <thead>\n",
       "    <tr style=\"text-align: right;\">\n",
       "      <th></th>\n",
       "      <th>name</th>\n",
       "      <th>age</th>\n",
       "      <th>gender</th>\n",
       "      <th>species</th>\n",
       "      <th>tricks</th>\n",
       "    </tr>\n",
       "  </thead>\n",
       "  <tbody>\n",
       "    <tr>\n",
       "      <th>0</th>\n",
       "      <td>Jojo</td>\n",
       "      <td>12</td>\n",
       "      <td>M</td>\n",
       "      <td>collie</td>\n",
       "      <td>roll over</td>\n",
       "    </tr>\n",
       "    <tr>\n",
       "      <th>1</th>\n",
       "      <td>Jojo</td>\n",
       "      <td>12</td>\n",
       "      <td>M</td>\n",
       "      <td>collie</td>\n",
       "      <td>flippy flip</td>\n",
       "    </tr>\n",
       "  </tbody>\n",
       "</table>\n",
       "</div>"
      ],
      "text/plain": [
       "   name  age gender species       tricks\n",
       "0  Jojo   12      M  collie    roll over\n",
       "1  Jojo   12      M  collie  flippy flip"
      ]
     },
     "execution_count": 78,
     "metadata": {},
     "output_type": "execute_result"
    }
   ],
   "source": [
    "jojo = Dog(name='Jojo',age=12, gender='M',species='collie')\n",
    "\n",
    "jojo.add_trick('roll over')\n",
    "jojo.add_trick('flippy flip')\n",
    "\n",
    "jojo.print_summary()\n",
    "\n",
    "df = jojo.return_df()\n",
    "\n",
    "df.head()"
   ]
  },
  {
   "cell_type": "code",
   "execution_count": null,
   "metadata": {},
   "outputs": [],
   "source": []
  }
 ],
 "metadata": {
  "kernelspec": {
   "display_name": "Python 3",
   "language": "python",
   "name": "python3"
  },
  "language_info": {
   "codemirror_mode": {
    "name": "ipython",
    "version": 3
   },
   "file_extension": ".py",
   "mimetype": "text/x-python",
   "name": "python",
   "nbconvert_exporter": "python",
   "pygments_lexer": "ipython3",
   "version": "3.7.7"
  }
 },
 "nbformat": 4,
 "nbformat_minor": 2
}
